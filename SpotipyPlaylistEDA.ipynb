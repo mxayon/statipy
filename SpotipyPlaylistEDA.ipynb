{
 "cells": [
  {
   "cell_type": "code",
   "execution_count": 1,
   "metadata": {},
   "outputs": [],
   "source": [
    "import numpy as np\n",
    "import matplotlib.pyplot as plt\n",
    "import pandas as pd\n",
    "%matplotlib inline\n",
    "from datetime import datetime"
   ]
  },
  {
   "cell_type": "code",
   "execution_count": 2,
   "metadata": {},
   "outputs": [
    {
     "name": "stdout",
     "output_type": "stream",
     "text": [
      "<class 'pandas.core.frame.DataFrame'>\n",
      "RangeIndex: 991 entries, 0 to 990\n",
      "Data columns (total 7 columns):\n",
      "Unnamed: 0     991 non-null int64\n",
      "Track          991 non-null object\n",
      "Explicit       991 non-null bool\n",
      "Tpopularity    991 non-null int64\n",
      "Artist         991 non-null object\n",
      "Album          991 non-null object\n",
      "Rdate          991 non-null object\n",
      "dtypes: bool(1), int64(2), object(4)\n",
      "memory usage: 47.5+ KB\n"
     ]
    }
   ],
   "source": [
    "stat_df = pd.read_csv('data/statipy_results.csv')\n",
    "stat_df.info()"
   ]
  },
  {
   "cell_type": "markdown",
   "metadata": {},
   "source": [
    "###### i. drops unnamed axis"
   ]
  },
  {
   "cell_type": "code",
   "execution_count": 3,
   "metadata": {},
   "outputs": [],
   "source": [
    "statidate_i = stat_df.drop('Unnamed: 0', axis=1)"
   ]
  },
  {
   "cell_type": "markdown",
   "metadata": {},
   "source": [
    "###### ii. changes Rdate to datetime index"
   ]
  },
  {
   "cell_type": "code",
   "execution_count": 4,
   "metadata": {},
   "outputs": [],
   "source": [
    "statidate_i['Rdate']= pd.DatetimeIndex(statidate_i['Rdate'], freq='infer')"
   ]
  },
  {
   "cell_type": "markdown",
   "metadata": {},
   "source": [
    "###### iii. rdate index + artsongcnt + songfreq"
   ]
  },
  {
   "cell_type": "code",
   "execution_count": 5,
   "metadata": {},
   "outputs": [],
   "source": [
    "statidate_i['artsongcnt'] = statidate_i.groupby('Artist')['Track'].transform('count')"
   ]
  },
  {
   "cell_type": "code",
   "execution_count": 6,
   "metadata": {},
   "outputs": [],
   "source": [
    "statidate_i['songfreq'] = statidate_i.groupby('Track')['Track'].transform('count')"
   ]
  },
  {
   "cell_type": "markdown",
   "metadata": {},
   "source": [
    "## I. statidate_i \n",
    "### rdate index + artsongcnt + songfreq"
   ]
  },
  {
   "cell_type": "code",
   "execution_count": null,
   "metadata": {},
   "outputs": [],
   "source": [
    "statidate_i.info()"
   ]
  },
  {
   "cell_type": "markdown",
   "metadata": {},
   "source": [
    "## II. stat_allfreq\n",
    "### rdate index + artsongcnt + songfreq + datesongcnt"
   ]
  },
  {
   "cell_type": "code",
   "execution_count": 7,
   "metadata": {},
   "outputs": [],
   "source": [
    "stat_allfreq = statidate_i.copy()"
   ]
  },
  {
   "cell_type": "code",
   "execution_count": 9,
   "metadata": {},
   "outputs": [],
   "source": [
    "stat_allfreq['datesongcnt'] = stat_allfreq.groupby('Rdate')['Track'].transform('count')"
   ]
  },
  {
   "cell_type": "code",
   "execution_count": 10,
   "metadata": {},
   "outputs": [
    {
     "data": {
      "text/html": [
       "<div>\n",
       "<style scoped>\n",
       "    .dataframe tbody tr th:only-of-type {\n",
       "        vertical-align: middle;\n",
       "    }\n",
       "\n",
       "    .dataframe tbody tr th {\n",
       "        vertical-align: top;\n",
       "    }\n",
       "\n",
       "    .dataframe thead th {\n",
       "        text-align: right;\n",
       "    }\n",
       "</style>\n",
       "<table border=\"1\" class=\"dataframe\">\n",
       "  <thead>\n",
       "    <tr style=\"text-align: right;\">\n",
       "      <th></th>\n",
       "      <th>Track</th>\n",
       "      <th>Explicit</th>\n",
       "      <th>Tpopularity</th>\n",
       "      <th>Artist</th>\n",
       "      <th>Album</th>\n",
       "      <th>Rdate</th>\n",
       "      <th>artsongcnt</th>\n",
       "      <th>songfreq</th>\n",
       "      <th>datesongcnt</th>\n",
       "    </tr>\n",
       "  </thead>\n",
       "  <tbody>\n",
       "    <tr>\n",
       "      <th>0</th>\n",
       "      <td>Paradise</td>\n",
       "      <td>False</td>\n",
       "      <td>49</td>\n",
       "      <td>Voyage</td>\n",
       "      <td>Paradise</td>\n",
       "      <td>2018-02-14</td>\n",
       "      <td>1</td>\n",
       "      <td>1</td>\n",
       "      <td>1</td>\n",
       "    </tr>\n",
       "    <tr>\n",
       "      <th>1</th>\n",
       "      <td>Tech Noir</td>\n",
       "      <td>False</td>\n",
       "      <td>56</td>\n",
       "      <td>Gunship</td>\n",
       "      <td>GUNSHIP</td>\n",
       "      <td>2015-07-24</td>\n",
       "      <td>1</td>\n",
       "      <td>1</td>\n",
       "      <td>1</td>\n",
       "    </tr>\n",
       "    <tr>\n",
       "      <th>2</th>\n",
       "      <td>Yes (Symmetry Remix)</td>\n",
       "      <td>False</td>\n",
       "      <td>38</td>\n",
       "      <td>Chromatics</td>\n",
       "      <td>Yes (Love Theme From Lost River)</td>\n",
       "      <td>2015-02-03</td>\n",
       "      <td>1</td>\n",
       "      <td>1</td>\n",
       "      <td>2</td>\n",
       "    </tr>\n",
       "    <tr>\n",
       "      <th>3</th>\n",
       "      <td>Night</td>\n",
       "      <td>False</td>\n",
       "      <td>39</td>\n",
       "      <td>John Carpenter</td>\n",
       "      <td>Lost Themes</td>\n",
       "      <td>2015-02-03</td>\n",
       "      <td>1</td>\n",
       "      <td>1</td>\n",
       "      <td>2</td>\n",
       "    </tr>\n",
       "    <tr>\n",
       "      <th>4</th>\n",
       "      <td>Depth Charge</td>\n",
       "      <td>False</td>\n",
       "      <td>5</td>\n",
       "      <td>Flume</td>\n",
       "      <td>Skin Companion EP II</td>\n",
       "      <td>2017-02-17</td>\n",
       "      <td>1</td>\n",
       "      <td>1</td>\n",
       "      <td>1</td>\n",
       "    </tr>\n",
       "  </tbody>\n",
       "</table>\n",
       "</div>"
      ],
      "text/plain": [
       "                  Track  Explicit  Tpopularity          Artist  \\\n",
       "0              Paradise     False           49          Voyage   \n",
       "1             Tech Noir     False           56         Gunship   \n",
       "2  Yes (Symmetry Remix)     False           38      Chromatics   \n",
       "3                 Night     False           39  John Carpenter   \n",
       "4          Depth Charge     False            5           Flume   \n",
       "\n",
       "                              Album      Rdate  artsongcnt  songfreq  \\\n",
       "0                          Paradise 2018-02-14           1         1   \n",
       "1                           GUNSHIP 2015-07-24           1         1   \n",
       "2  Yes (Love Theme From Lost River) 2015-02-03           1         1   \n",
       "3                       Lost Themes 2015-02-03           1         1   \n",
       "4              Skin Companion EP II 2017-02-17           1         1   \n",
       "\n",
       "   datesongcnt  \n",
       "0            1  \n",
       "1            1  \n",
       "2            2  \n",
       "3            2  \n",
       "4            1  "
      ]
     },
     "execution_count": 10,
     "metadata": {},
     "output_type": "execute_result"
    }
   ],
   "source": [
    "stat_allfreq.head()"
   ]
  },
  {
   "cell_type": "markdown",
   "metadata": {},
   "source": [
    "## III. statipy_yr\n",
    "### rdate YEAR + songfreq + artsongcnt + yrsongcnt"
   ]
  },
  {
   "cell_type": "code",
   "execution_count": 11,
   "metadata": {},
   "outputs": [],
   "source": [
    "statipy_yr = statidate_i.copy()"
   ]
  },
  {
   "cell_type": "code",
   "execution_count": 12,
   "metadata": {},
   "outputs": [],
   "source": [
    "statipy_yr['Rdate'] = pd.DatetimeIndex(statipy_yr['Rdate']).year"
   ]
  },
  {
   "cell_type": "code",
   "execution_count": 14,
   "metadata": {},
   "outputs": [],
   "source": [
    "statipy_yr['yrsongcnt'] = statipy_yr.groupby('Rdate')['Track'].transform('count')"
   ]
  },
  {
   "cell_type": "code",
   "execution_count": 15,
   "metadata": {
    "scrolled": false
   },
   "outputs": [
    {
     "data": {
      "text/html": [
       "<div>\n",
       "<style scoped>\n",
       "    .dataframe tbody tr th:only-of-type {\n",
       "        vertical-align: middle;\n",
       "    }\n",
       "\n",
       "    .dataframe tbody tr th {\n",
       "        vertical-align: top;\n",
       "    }\n",
       "\n",
       "    .dataframe thead th {\n",
       "        text-align: right;\n",
       "    }\n",
       "</style>\n",
       "<table border=\"1\" class=\"dataframe\">\n",
       "  <thead>\n",
       "    <tr style=\"text-align: right;\">\n",
       "      <th></th>\n",
       "      <th>Track</th>\n",
       "      <th>Explicit</th>\n",
       "      <th>Tpopularity</th>\n",
       "      <th>Artist</th>\n",
       "      <th>Album</th>\n",
       "      <th>Rdate</th>\n",
       "      <th>artsongcnt</th>\n",
       "      <th>songfreq</th>\n",
       "      <th>yrsongcnt</th>\n",
       "    </tr>\n",
       "  </thead>\n",
       "  <tbody>\n",
       "    <tr>\n",
       "      <th>0</th>\n",
       "      <td>Paradise</td>\n",
       "      <td>False</td>\n",
       "      <td>49</td>\n",
       "      <td>Voyage</td>\n",
       "      <td>Paradise</td>\n",
       "      <td>2018</td>\n",
       "      <td>1</td>\n",
       "      <td>1</td>\n",
       "      <td>118</td>\n",
       "    </tr>\n",
       "    <tr>\n",
       "      <th>1</th>\n",
       "      <td>Tech Noir</td>\n",
       "      <td>False</td>\n",
       "      <td>56</td>\n",
       "      <td>Gunship</td>\n",
       "      <td>GUNSHIP</td>\n",
       "      <td>2015</td>\n",
       "      <td>1</td>\n",
       "      <td>1</td>\n",
       "      <td>61</td>\n",
       "    </tr>\n",
       "    <tr>\n",
       "      <th>2</th>\n",
       "      <td>Yes (Symmetry Remix)</td>\n",
       "      <td>False</td>\n",
       "      <td>38</td>\n",
       "      <td>Chromatics</td>\n",
       "      <td>Yes (Love Theme From Lost River)</td>\n",
       "      <td>2015</td>\n",
       "      <td>1</td>\n",
       "      <td>1</td>\n",
       "      <td>61</td>\n",
       "    </tr>\n",
       "    <tr>\n",
       "      <th>3</th>\n",
       "      <td>Night</td>\n",
       "      <td>False</td>\n",
       "      <td>39</td>\n",
       "      <td>John Carpenter</td>\n",
       "      <td>Lost Themes</td>\n",
       "      <td>2015</td>\n",
       "      <td>1</td>\n",
       "      <td>1</td>\n",
       "      <td>61</td>\n",
       "    </tr>\n",
       "    <tr>\n",
       "      <th>4</th>\n",
       "      <td>Depth Charge</td>\n",
       "      <td>False</td>\n",
       "      <td>5</td>\n",
       "      <td>Flume</td>\n",
       "      <td>Skin Companion EP II</td>\n",
       "      <td>2017</td>\n",
       "      <td>1</td>\n",
       "      <td>1</td>\n",
       "      <td>142</td>\n",
       "    </tr>\n",
       "  </tbody>\n",
       "</table>\n",
       "</div>"
      ],
      "text/plain": [
       "                  Track  Explicit  Tpopularity          Artist  \\\n",
       "0              Paradise     False           49          Voyage   \n",
       "1             Tech Noir     False           56         Gunship   \n",
       "2  Yes (Symmetry Remix)     False           38      Chromatics   \n",
       "3                 Night     False           39  John Carpenter   \n",
       "4          Depth Charge     False            5           Flume   \n",
       "\n",
       "                              Album  Rdate  artsongcnt  songfreq  yrsongcnt  \n",
       "0                          Paradise   2018           1         1        118  \n",
       "1                           GUNSHIP   2015           1         1         61  \n",
       "2  Yes (Love Theme From Lost River)   2015           1         1         61  \n",
       "3                       Lost Themes   2015           1         1         61  \n",
       "4              Skin Companion EP II   2017           1         1        142  "
      ]
     },
     "execution_count": 15,
     "metadata": {},
     "output_type": "execute_result"
    }
   ],
   "source": [
    "statipy_yr.head()"
   ]
  },
  {
   "cell_type": "markdown",
   "metadata": {},
   "source": [
    "******************************************\n",
    "******************************************"
   ]
  },
  {
   "cell_type": "markdown",
   "metadata": {},
   "source": [
    "# START:\n",
    "## Clean data - \n",
    "    ### stat_allfreq = rdate index + artsongcnt + songfreq + datesongcnt\n",
    "    ### statipy_yr = rdate year + artsongcnt + song freq + yrsongcnt"
   ]
  },
  {
   "cell_type": "markdown",
   "metadata": {},
   "source": [
    "# 1.  DATE\n",
    "**********************************"
   ]
  },
  {
   "cell_type": "markdown",
   "metadata": {},
   "source": [
    "## GROUP A - yearly\n",
    "#### Rdate Year full statistics"
   ]
  },
  {
   "cell_type": "code",
   "execution_count": null,
   "metadata": {},
   "outputs": [],
   "source": [
    "yearly = statipy_yr.groupby(['Rdate']).mean()"
   ]
  },
  {
   "cell_type": "markdown",
   "metadata": {},
   "source": [
    "## GROUP B - tr3y, tr2y tr1y\n",
    "#### Rdate Year most repeat tracks (song freq)"
   ]
  },
  {
   "cell_type": "code",
   "execution_count": null,
   "metadata": {},
   "outputs": [],
   "source": [
    "# tr3y = statipy_yr[statipy_yr['songfreq']>=3]\n",
    "# tr2y = statipy_yr[statipy_yr['songfreq']==2]\n",
    "# tr1y = statipy_yr[statipy_yr['songfreq']<=1]"
   ]
  },
  {
   "cell_type": "code",
   "execution_count": null,
   "metadata": {},
   "outputs": [],
   "source": [
    "# tr3y.groupby(['Rdate'])['Tpopularity'].mean().plot.line(stacked=True, alpha=1)\n",
    "# tr2y.groupby(['Rdate'])['Tpopularity'].mean().plot.line(stacked=True, alpha=0.50)\n",
    "# tr1y.groupby(['Rdate'])['Tpopularity'].mean().plot.line(stacked=True, alpha=0.25)"
   ]
  },
  {
   "cell_type": "markdown",
   "metadata": {},
   "source": [
    "## GROUP C\n",
    "#### Rdate Year most tracks per year\n",
    "#### date_i = year-date (most freq - yrsongcnt) / date_max = year-date (top >=15 only - yrsongcnt)"
   ]
  },
  {
   "cell_type": "code",
   "execution_count": null,
   "metadata": {},
   "outputs": [],
   "source": [
    "freqdates = statipy_yr[statipy_yr['yrsongcnt']>=8]\n",
    "maxfreqdates = statipy_yr[statipy_yr['yrsongcnt']>=15]\n",
    "minfreqdates = statipy_yr[statipy_yr['yrsongcnt']==1]"
   ]
  },
  {
   "cell_type": "code",
   "execution_count": null,
   "metadata": {},
   "outputs": [],
   "source": [
    "date_i = freqdates.groupby(['Rdate'])[['Explicit', 'Tpopularity', 'yrsongcnt']].mean()"
   ]
  },
  {
   "cell_type": "code",
   "execution_count": null,
   "metadata": {},
   "outputs": [],
   "source": [
    "date_max = maxfreqdates.groupby(['Rdate'])[['Explicit', 'Tpopularity', 'yrsongcnt']].mean()"
   ]
  },
  {
   "cell_type": "code",
   "execution_count": null,
   "metadata": {},
   "outputs": [],
   "source": [
    "date_i.plot()"
   ]
  },
  {
   "cell_type": "code",
   "execution_count": null,
   "metadata": {},
   "outputs": [],
   "source": [
    "date_max.plot()"
   ]
  },
  {
   "cell_type": "markdown",
   "metadata": {},
   "source": [
    "## GROUP D\n",
    "#### Rdate Year stats:: explicit avg x pop avg x yrsongcnt per YR"
   ]
  },
  {
   "cell_type": "code",
   "execution_count": null,
   "metadata": {},
   "outputs": [],
   "source": [
    "statipy_yr.groupby('Rdate')['yrsongcnt'].mean().plot.line(stacked=True, grid=True)\n",
    "statipy_yr.groupby('Rdate')['Explicit'].mean().plot.line(stacked=True, grid=True)\n",
    "statipy_yr.groupby('Rdate')['Tpopularity'].mean().plot.line(stacked=True, grid=True)"
   ]
  },
  {
   "cell_type": "markdown",
   "metadata": {},
   "source": [
    "#####  explicit avg only / year"
   ]
  },
  {
   "cell_type": "code",
   "execution_count": null,
   "metadata": {},
   "outputs": [],
   "source": [
    "statipy_yr.groupby('Rdate')['Explicit'].mean().plot.line(stacked=True, grid=True)"
   ]
  },
  {
   "cell_type": "markdown",
   "metadata": {},
   "source": [
    "## GROUP E\n",
    "#### Rdate Year X yrsongcount 1 (mindate)"
   ]
  },
  {
   "cell_type": "code",
   "execution_count": null,
   "metadata": {},
   "outputs": [],
   "source": [
    "mindate = statipy_yr[statipy_yr['yrsongcnt']==1]\n",
    "mindate.head()"
   ]
  },
  {
   "cell_type": "markdown",
   "metadata": {},
   "source": [
    "#### Rdate Year X yrsongcount 1 (mindate) / Tpopularity\n",
    "### high pop | lowpop || tpdm> | lpdm<"
   ]
  },
  {
   "cell_type": "code",
   "execution_count": null,
   "metadata": {},
   "outputs": [],
   "source": [
    "toppop_datemin = mindate[mindate['Tpopularity']>=43]\n",
    "lowpop_datemin = mindate[mindate['Tpopularity']<=43]\n",
    "tpdm = toppop_datemin\n",
    "lpdm = lowpop_datemin"
   ]
  },
  {
   "cell_type": "code",
   "execution_count": null,
   "metadata": {},
   "outputs": [],
   "source": [
    "scatter plot : avg album popularity / explicit track content x song repeats"
   ]
  },
  {
   "cell_type": "code",
   "execution_count": null,
   "metadata": {},
   "outputs": [],
   "source": [
    "#highpop\n",
    "x = tpdm.groupby('Rdate')['Explicit'].count()\n",
    "y = tpdm.groupby('Rdate')['Tpopularity'].mean()\n",
    "s = tpdm.groupby('Rdate')['songfreq'].count()\n",
    "\n",
    "fig, ax = plt.subplots(figsize=(24, 12))\n",
    "ax.scatter(x, y, s*100, alpha=0.60);\n",
    "ax.set_xlabel('Explicit Tracks per Album')\n",
    "ax.set_ylabel('Avg Popularity per Album')\n",
    "\n",
    "plt.show()"
   ]
  },
  {
   "cell_type": "code",
   "execution_count": null,
   "metadata": {},
   "outputs": [],
   "source": [
    "#lowpop\n",
    "x = lpdm.groupby('Rdate')['Explicit'].count()\n",
    "y = lpdm.groupby('Rdate')['Tpopularity'].mean()\n",
    "s = lpdm.groupby('Rdate')['songfreq'].count()\n",
    "\n",
    "fig, ax = plt.subplots(figsize=(24, 12))\n",
    "ax.scatter(x, y, s*100, alpha=0.60);\n",
    "ax.set_xlabel('Explicit Tracks per Album')\n",
    "ax.set_ylabel('Avg Popularity per Album')\n",
    "\n",
    "plt.show()"
   ]
  },
  {
   "cell_type": "markdown",
   "metadata": {},
   "source": [
    "#### Rdate Year X yrsongcount 1 (mindate) / Tpopularity XX songfreq\n",
    "#### tpdm> | lpdm< ||  songfreq (repeated track frequency) per year"
   ]
  },
  {
   "cell_type": "code",
   "execution_count": null,
   "metadata": {},
   "outputs": [],
   "source": [
    "tpdm.groupby('Rdate')['songfreq'].count().plot.line(stacked=True, alpha=.25)\n",
    "lpdm.groupby('Rdate')['songfreq'].count().plot.line(stacked=True)"
   ]
  },
  {
   "cell_type": "markdown",
   "metadata": {},
   "source": [
    "#### Rdate Yr plots albums by date by track popularity over explicit content."
   ]
  },
  {
   "cell_type": "code",
   "execution_count": null,
   "metadata": {},
   "outputs": [],
   "source": [
    "statipy_df['Tpopularity'].mean()"
   ]
  },
  {
   "cell_type": "code",
   "execution_count": null,
   "metadata": {},
   "outputs": [],
   "source": [
    "popular_tracks= statipy_df[statipy_df['Tpopularity']>=43.71]\n",
    "x = popular_tracks.groupby(['Album'])['Tpopularity'].mean()\n",
    "y = popular_tracks.groupby(['Album'])['Explicit'].count()\n",
    "s = popular_tracks.groupby(['Album'])['Track'].count()\n",
    "\n",
    "fig, ax = plt.subplots(figsize=(16, 16))\n",
    "ax.scatter(y, x, s*100, alpha=0.10);\n",
    "ax.set_ylabel('Avg Album Popularity')\n",
    "ax.set_xlabel('Explicit Tracks per Album')\n",
    "\n",
    "plt.show()"
   ]
  },
  {
   "cell_type": "markdown",
   "metadata": {},
   "source": [
    "#### Rdate by track popularity over explicit content. with number of tracks to size"
   ]
  },
  {
   "cell_type": "code",
   "execution_count": null,
   "metadata": {},
   "outputs": [],
   "source": [
    "x = statipy_df.groupby(['Rdate'])['Tpopularity'].mean()\n",
    "y = statipy_df.groupby(['Rdate'])[['Explicit']].count()\n",
    "\n",
    "fig, ax = plt.subplots(figsize=(20, 16))\n",
    "ax.scatter(x=x, y=y, s=statipy_df['artsongcnt']*5);\n",
    "ax.set_xlabel('Avg Album Popularity')\n",
    "ax.set_ylabel('Explicit Tracks per Album')\n",
    "\n",
    "plt.show()"
   ]
  },
  {
   "cell_type": "markdown",
   "metadata": {},
   "source": [
    "# 2. ARTISTS\n",
    "************************************\n",
    "\n",
    "## GROUP A - artstatsy\n",
    "#### artists full statistics per clean data \n",
    "top - Tpopularity, Explicit, Songfreq"
   ]
  },
  {
   "cell_type": "code",
   "execution_count": null,
   "metadata": {},
   "outputs": [],
   "source": [
    "#art_statsy = statipy_yr.groupby(['Artist', 'Rdate']).mean()"
   ]
  },
  {
   "cell_type": "markdown",
   "metadata": {},
   "source": [
    "# 3. SONGFREQ (#of times song is featured in playlist)\n",
    "*****************************"
   ]
  },
  {
   "cell_type": "markdown",
   "metadata": {},
   "source": [
    "## GROUP A\n",
    "### Divide by song frequency\n",
    "#### Song Freq = NO_SOLO + SOLO_DF"
   ]
  },
  {
   "cell_type": "code",
   "execution_count": null,
   "metadata": {},
   "outputs": [],
   "source": [
    "#no_solo = statipycounts_df[statipycounts_df['songfreq']>=2]\n",
    "#no_solo.info()"
   ]
  },
  {
   "cell_type": "code",
   "execution_count": null,
   "metadata": {},
   "outputs": [],
   "source": [
    "#solo_df = statipycounts_df[statipycounts_df['songfreq']<=1]\n",
    "#solo_df.info()"
   ]
  },
  {
   "cell_type": "markdown",
   "metadata": {},
   "source": [
    "## GROUP B\n",
    "### song frequency X artist tracks (artsongcnt)\n",
    "#### artist with most non repeat tracks || artist_mostsolo"
   ]
  },
  {
   "cell_type": "code",
   "execution_count": null,
   "metadata": {},
   "outputs": [],
   "source": [
    "artist_mostsolo = solo_df[solo_df['artsongcnt']>=5]\n",
    "artist_mostsolo"
   ]
  },
  {
   "cell_type": "markdown",
   "metadata": {},
   "source": [
    "###### plot : artist_mostsolo / artsongcnt XX popularity / dates (year)"
   ]
  },
  {
   "cell_type": "code",
   "execution_count": null,
   "metadata": {},
   "outputs": [],
   "source": [
    "artist_mostsolo.groupby(['Rdate'])['artsongcnt'].mean().plot()\n",
    "artist_mostsolo.groupby(['Rdate'])['Tpopularity'].mean().plot()"
   ]
  },
  {
   "cell_type": "markdown",
   "metadata": {},
   "source": [
    "## GROUP Bb\n",
    "### artists most solo / explicit tracks\n",
    "#### pg13artists_ms || artsongcnt_ms"
   ]
  },
  {
   "cell_type": "code",
   "execution_count": null,
   "metadata": {},
   "outputs": [],
   "source": [
    "pg13artists_ms = artist_mostsolo[artist_mostsolo['Explicit']==1.0]\n",
    "xartists_ms = artist_mostsolo[artist_mostsolo['Explicit']==0.0]"
   ]
  },
  {
   "cell_type": "markdown",
   "metadata": {},
   "source": [
    "####### plot :: Tpopularity XX artsongcnt XX Explicit ?? (level of 0 - 2)"
   ]
  },
  {
   "cell_type": "code",
   "execution_count": null,
   "metadata": {},
   "outputs": [],
   "source": [
    "pg13artists_ms[['Tpopularity', 'Explicit', 'artsongcnt']].plot.line()\n",
    "xartists_ms[['Tpopularity', 'Explicit', 'artsongcnt']].plot.line()"
   ]
  },
  {
   "cell_type": "markdown",
   "metadata": {},
   "source": [
    "## GROUP C\n",
    "### SOLO_DF >43 POP only  |  popsolo"
   ]
  },
  {
   "cell_type": "code",
   "execution_count": null,
   "metadata": {},
   "outputs": [],
   "source": [
    "#per release date - artists track count // avg track popularity\n",
    "  popart_ms = artist_mostsolo[artist_mostsolo['Tpopularity']<=43.17]\n",
    "#plot\n",
    "  popart_ms.groupby('Rdate')['artsongcnt'].mean().plot(stacked=True)\n",
    "  popart_ms.groupby('Rdate')['Tpopularity'].mean().plot(grid=True)"
   ]
  },
  {
   "cell_type": "code",
   "execution_count": null,
   "metadata": {},
   "outputs": [],
   "source": [
    "### per release date - artists track count // avg track popularity"
   ]
  },
  {
   "cell_type": "code",
   "execution_count": null,
   "metadata": {},
   "outputs": [],
   "source": [
    "#plot (unfilled stack step)\n",
    "ibins = 30\n",
    "x = popart_ms.Tpopularity\n",
    "x1 = popart_ms.artsongcnt\n",
    "colors = ['blue', 'orange', 'green']\n",
    "plt.hist(x1, ibins, histtype='step', stacked=True, fill=False, label=colors)\n",
    "plt.hist(x, ibins, histtype='step', stacked=True, fill=False, label=colors)\n",
    "plt.legend(loc=\"upper right\")\n",
    "plt.title('Stack Step (unfilled)')\n",
    "plt.show()"
   ]
  },
  {
   "cell_type": "markdown",
   "metadata": {},
   "source": [
    "## GROUP D\n",
    "##### ALL TRACKS POP x EXPLICIT / dates\n",
    "##### RECALL STATIPY_DF ( + track columns)¶\n",
    "scatter - popularity / explicit count *** s=statipy_df['artsongcnt']*5*\n",
    "\n",
    "plot"
   ]
  },
  {
   "cell_type": "code",
   "execution_count": null,
   "metadata": {},
   "outputs": [],
   "source": [
    "x = statipy_df.groupby(['Rdate'])['Tpopularity'].mean()\n",
    "y = statipy_df.groupby(['Rdate'])[['Explicit']].count()\n",
    "\n",
    "fig, ax = plt.subplots(figsize=(26, 12))\n",
    "ax.scatter(x=x, y=y, s=statipy_df['artsongcnt']*5);\n",
    "\n",
    "ax.set_xlabel('Avg Album Popularity')\n",
    "ax.set_ylabel('Explicit Tracks per Album')\n",
    "\n",
    "plt.show()"
   ]
  },
  {
   "cell_type": "markdown",
   "metadata": {},
   "source": [
    "# 4. POPULARITY\n",
    "*****************************"
   ]
  },
  {
   "cell_type": "code",
   "execution_count": null,
   "metadata": {},
   "outputs": [],
   "source": [
    "## GROUP A \n",
    "#### statipy_yr pop >43 | popular_tracks\n",
    "scatter plot s = * track count"
   ]
  },
  {
   "cell_type": "code",
   "execution_count": null,
   "metadata": {},
   "outputs": [],
   "source": [
    "popular_tracks= statipy_df[statipy_df['Tpopularity']>=43.71]\n",
    "\n",
    "#plot\n",
    "#### scatterplot\n",
    "x = popular_tracks.groupby(['Album'])['Tpopularity'].mean()\n",
    "y = popular_tracks.groupby(['Album'])['Explicit'].count()\n",
    "s = popular_tracks.groupby(['Album'])['Track'].count()\n",
    "\n",
    "fig, ax = plt.subplots(figsize=(26, 12))\n",
    "ax.scatter(x, y, s*100, alpha=0.10);\n",
    "ax.set_xlabel('Avg Album Popularity')\n",
    "ax.set_ylabel('Explicit Tracks per Album')\n",
    "\n",
    "plt.show()"
   ]
  },
  {
   "cell_type": "code",
   "execution_count": null,
   "metadata": {},
   "outputs": [],
   "source": [
    "## GROUP B \n",
    "Most popular Artist w/ most solos\n",
    "highrank_artistsolo ---- high pop && freq\n",
    "  popular_solo = solo_df[solo_df['Tpopularity']>=43]\n",
    "  freq_popularsolo = popular_solo[popular_solo['artsongcnt']>=8]\n",
    "  highrank_artistsolo = freq_popularsolo.groupby(['Artist'])[['Artist', 'Tpopularity',\n",
    " 'artsongcnt']].mean()\n",
    "\n",
    "plot\n",
    "  highrank_artistsolo.plot.bar()"
   ]
  },
  {
   "cell_type": "code",
   "execution_count": null,
   "metadata": {},
   "outputs": [],
   "source": [
    "## GROUP C\n",
    "ARTIST : HIGH POP, HIGH SONG REPEAT)\n",
    "GROUP VII\n",
    "mostfreq_pop ---- high pop && freq\n",
    "  mostfreq_pop = no_solo[no_solo['songfreq']>3]\n",
    "  mostfreq_pop.groupby('Artist').mean().plot.bar()\n"
   ]
  },
  {
   "cell_type": "code",
   "execution_count": null,
   "metadata": {},
   "outputs": [],
   "source": [
    "## GROUP D\n",
    "MOST POP ARTIST BY YEAR GROUP\n",
    "Narrowing down\n",
    "  most_popular = statipy_df[statipy_df['Tpopularity']>=43]\n",
    "  most_popular_y = most_popular[['Track', 'Explicit', 'Tpopularity', 'Artist', 'Rdate', 'artsongcnt', 'songfreq']]\n",
    "  most_popular_y.head()\n",
    "\n",
    "  most_popular_y['Rdate'] = pd.DatetimeIndex(most_popular_y['Rdate']).year\n",
    "\n",
    "  most_popular_y\n",
    "  most_popular_y['artsongcnt'].mean()\n",
    "  10.678638941398866\n",
    "\n",
    "plot\n",
    "  popart_mostfreq = most_popular_y[most_popular_y['artsongcnt']>=10]\n",
    "  popart_mostfreq.groupby('Artist')[['Tpopularity', 'artsongcnt', 'Explicit']].mean().plot.bar()\n"
   ]
  },
  {
   "cell_type": "markdown",
   "metadata": {},
   "source": [
    "# 5. EXPLICIT CONTENT\n",
    "*****************************"
   ]
  },
  {
   "cell_type": "code",
   "execution_count": null,
   "metadata": {},
   "outputs": [],
   "source": [
    "## GROUP A\n",
    "#### EXPLICIT x SONG REPEATS\n",
    "\n",
    "  explicit_tracks = statipy_year[statipy_year['Explicit']==True]\n",
    "  freqex_tracks = explicit_tracks[explicit_tracks['songfreq']>=5]\n",
    "  freqex_tracks\n",
    "plot\n",
    "  top_freqartex = freqex_tracks.groupby('Artist')[['Tpopularity', 'artsongcnt']].mean()\n",
    "  top_freqartex.plot.barh(grid=True)"
   ]
  },
  {
   "cell_type": "code",
   "execution_count": null,
   "metadata": {},
   "outputs": [],
   "source": [
    "## GROUP B\n",
    "#### PG13 x SONG REPEATS\n",
    "  pg_tracks = statipy_year[statipy_year['Explicit']==False]\n",
    "  freqpg_tracks = pg_tracks[pg_tracks['songfreq']>=3]\n",
    "  freqpg_tracks\n",
    "\n",
    "artist pg13 mean (most repeats)\n",
    "  top_freqartpg = freqpg_tracks.groupby('Artist')[['Tpopularity', 'artsongcnt', 'Explicit']].mean()\n",
    "\n",
    "plot\n",
    "  top_freqartpg.plot.barh(grid=True)\n"
   ]
  },
  {
   "cell_type": "code",
   "execution_count": null,
   "metadata": {},
   "outputs": [],
   "source": [
    "## GROUP C\n",
    "#### artist pg13 mean (most pop)\n",
    "  pgpop_tracks = pg_tracks[pg_tracks['Tpopularity']>=43]\n",
    "  pg_art_info = pgpop_tracks.groupby(['Artist', 'songfreq'])[['Tpopularity']]\n",
    "\n",
    "plot\n",
    "  pg_art_info.mean().sort_values('songfreq').tail(15).plot.bar()\n"
   ]
  },
  {
   "cell_type": "code",
   "execution_count": null,
   "metadata": {},
   "outputs": [],
   "source": [
    "## GROUP DDDDD\n",
    "pg13_artists = topartcnt_singles[topartcnt_singles['Explicit']==1.0]\n",
    "pg13_artists\n",
    "pg13_artists.plot.line()\n",
    "- plots popularity artsongcnt over date (explicit should flat line)\n",
    "\n",
    "\n",
    "ex_artists = topartcnt_singles[topartcnt_singles['Explicit']<=0.0]\n",
    "ex_artists\n",
    "\n",
    "ex_artists.plot.line()\n",
    "- plots explicit artists stats per album date\n"
   ]
  },
  {
   "cell_type": "markdown",
   "metadata": {},
   "source": [
    "# 6. DATE II / YEAR\n",
    "#### YEAR x old / new\n",
    "\n",
    "*****************************"
   ]
  },
  {
   "cell_type": "code",
   "execution_count": null,
   "metadata": {},
   "outputs": [],
   "source": [
    "## GROUP A\n",
    "#### (oldest dates)"
   ]
  },
  {
   "cell_type": "code",
   "execution_count": null,
   "metadata": {},
   "outputs": [],
   "source": [
    "old_tracks = statipy_year.groupby(['Rdate', 'Artist']).mean().head(15)\n",
    "plot\n",
    "  old_tracks.plot(kind='barh',stacked=True)"
   ]
  },
  {
   "cell_type": "code",
   "execution_count": null,
   "metadata": {},
   "outputs": [],
   "source": [
    "## GROUP B\n",
    "#### (newest dates)"
   ]
  },
  {
   "cell_type": "code",
   "execution_count": null,
   "metadata": {},
   "outputs": [],
   "source": [
    "(newest dates)\n",
    "  newest_tracks = statipy_year.groupby(['Rdate', 'Artist']).mean().tail(15)\n",
    "\n",
    "plot\n",
    "  newest_tracks.plot(kind='barh',stacked=True)"
   ]
  },
  {
   "cell_type": "code",
   "execution_count": null,
   "metadata": {},
   "outputs": [],
   "source": []
  },
  {
   "cell_type": "markdown",
   "metadata": {},
   "source": [
    "# 7. ARTIST II\n",
    "*****************************"
   ]
  },
  {
   "cell_type": "code",
   "execution_count": null,
   "metadata": {},
   "outputs": [],
   "source": [
    "#artistdf1 = statipy1_df.groupby(['Artist', 'Rdate'])[['Tpopularity', 'artsongcnt',\n",
    "#'songfreq', 'Explicit']].mean()\n",
    "#artistdf1\n",
    "#topartcnt_singles = artistdf1[artistdf1['artsongcnt']>=5]\n",
    "#topartcnt_single"
   ]
  },
  {
   "cell_type": "code",
   "execution_count": null,
   "metadata": {},
   "outputs": [],
   "source": [
    "#- plots artists with more than 5 tracks album stats over dates\n",
    "#topartcnt_singles.plot.line()\n",
    "\n",
    "#- plots frequent songs with no repeats popularity over dates\n",
    "#popsongcount_single.groupby(['Rdate'])['Tpopularity'].mean().plot()\n",
    "\n",
    "#- plots frequent songs with no repeats artists track count over dates\n",
    "#popsongcount_single.groupby(['Rdate'])['artsongcnt'].mean().plot()\n",
    "\n"
   ]
  },
  {
   "cell_type": "markdown",
   "metadata": {},
   "source": [
    "# 8.\n",
    "*****************************"
   ]
  }
 ],
 "metadata": {
  "kernelspec": {
   "display_name": "Python 3",
   "language": "python",
   "name": "python3"
  },
  "language_info": {
   "codemirror_mode": {
    "name": "ipython",
    "version": 3
   },
   "file_extension": ".py",
   "mimetype": "text/x-python",
   "name": "python",
   "nbconvert_exporter": "python",
   "pygments_lexer": "ipython3",
   "version": "3.7.0"
  }
 },
 "nbformat": 4,
 "nbformat_minor": 2
}
