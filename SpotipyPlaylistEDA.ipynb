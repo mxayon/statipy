{
 "cells": [
  {
   "cell_type": "code",
   "execution_count": 2,
   "metadata": {},
   "outputs": [],
   "source": [
    "import numpy as np\n",
    "import matplotlib.pyplot as plt\n",
    "import pandas as pd\n",
    "%matplotlib inline\n",
    "from datetime import datetime"
   ]
  },
  {
   "cell_type": "code",
   "execution_count": 3,
   "metadata": {},
   "outputs": [
    {
     "data": {
      "text/html": [
       "<div>\n",
       "<style scoped>\n",
       "    .dataframe tbody tr th:only-of-type {\n",
       "        vertical-align: middle;\n",
       "    }\n",
       "\n",
       "    .dataframe tbody tr th {\n",
       "        vertical-align: top;\n",
       "    }\n",
       "\n",
       "    .dataframe thead th {\n",
       "        text-align: right;\n",
       "    }\n",
       "</style>\n",
       "<table border=\"1\" class=\"dataframe\">\n",
       "  <thead>\n",
       "    <tr style=\"text-align: right;\">\n",
       "      <th></th>\n",
       "      <th>Unnamed: 0</th>\n",
       "      <th>Track</th>\n",
       "      <th>Explicit</th>\n",
       "      <th>Tpopularity</th>\n",
       "      <th>Artist</th>\n",
       "      <th>Album</th>\n",
       "      <th>Rdate</th>\n",
       "    </tr>\n",
       "  </thead>\n",
       "  <tbody>\n",
       "    <tr>\n",
       "      <th>0</th>\n",
       "      <td>0</td>\n",
       "      <td>Paradise</td>\n",
       "      <td>False</td>\n",
       "      <td>49</td>\n",
       "      <td>Voyage</td>\n",
       "      <td>Paradise</td>\n",
       "      <td>2018-02-14</td>\n",
       "    </tr>\n",
       "    <tr>\n",
       "      <th>1</th>\n",
       "      <td>1</td>\n",
       "      <td>Tech Noir</td>\n",
       "      <td>False</td>\n",
       "      <td>56</td>\n",
       "      <td>Gunship</td>\n",
       "      <td>GUNSHIP</td>\n",
       "      <td>2015-07-24</td>\n",
       "    </tr>\n",
       "    <tr>\n",
       "      <th>2</th>\n",
       "      <td>2</td>\n",
       "      <td>Yes (Symmetry Remix)</td>\n",
       "      <td>False</td>\n",
       "      <td>38</td>\n",
       "      <td>Chromatics</td>\n",
       "      <td>Yes (Love Theme From Lost River)</td>\n",
       "      <td>2015-02-03</td>\n",
       "    </tr>\n",
       "    <tr>\n",
       "      <th>3</th>\n",
       "      <td>3</td>\n",
       "      <td>Night</td>\n",
       "      <td>False</td>\n",
       "      <td>39</td>\n",
       "      <td>John Carpenter</td>\n",
       "      <td>Lost Themes</td>\n",
       "      <td>2015-02-03</td>\n",
       "    </tr>\n",
       "    <tr>\n",
       "      <th>4</th>\n",
       "      <td>4</td>\n",
       "      <td>Depth Charge</td>\n",
       "      <td>False</td>\n",
       "      <td>5</td>\n",
       "      <td>Flume</td>\n",
       "      <td>Skin Companion EP II</td>\n",
       "      <td>2017-02-17</td>\n",
       "    </tr>\n",
       "  </tbody>\n",
       "</table>\n",
       "</div>"
      ],
      "text/plain": [
       "   Unnamed: 0                 Track  Explicit  Tpopularity          Artist  \\\n",
       "0           0              Paradise     False           49          Voyage   \n",
       "1           1             Tech Noir     False           56         Gunship   \n",
       "2           2  Yes (Symmetry Remix)     False           38      Chromatics   \n",
       "3           3                 Night     False           39  John Carpenter   \n",
       "4           4          Depth Charge     False            5           Flume   \n",
       "\n",
       "                              Album       Rdate  \n",
       "0                          Paradise  2018-02-14  \n",
       "1                           GUNSHIP  2015-07-24  \n",
       "2  Yes (Love Theme From Lost River)  2015-02-03  \n",
       "3                       Lost Themes  2015-02-03  \n",
       "4              Skin Companion EP II  2017-02-17  "
      ]
     },
     "execution_count": 3,
     "metadata": {},
     "output_type": "execute_result"
    }
   ],
   "source": [
    "stat_df = pd.read_csv('data/statipy_results.csv')\n",
    "stat_df.head()"
   ]
  },
  {
   "cell_type": "markdown",
   "metadata": {},
   "source": [
    "###### drops unnamed axis"
   ]
  },
  {
   "cell_type": "code",
   "execution_count": 4,
   "metadata": {},
   "outputs": [],
   "source": [
    "statidate_i = stat_df.drop('Unnamed: 0', axis=1)"
   ]
  },
  {
   "cell_type": "markdown",
   "metadata": {},
   "source": [
    "###### changes Rdate to datetime index"
   ]
  },
  {
   "cell_type": "code",
   "execution_count": 5,
   "metadata": {},
   "outputs": [],
   "source": [
    "statidate_i['Rdate']= pd.DatetimeIndex(statidate_i['Rdate'], freq='infer')"
   ]
  },
  {
   "cell_type": "code",
   "execution_count": 6,
   "metadata": {},
   "outputs": [
    {
     "name": "stdout",
     "output_type": "stream",
     "text": [
      "<class 'pandas.core.frame.DataFrame'>\n",
      "RangeIndex: 991 entries, 0 to 990\n",
      "Data columns (total 6 columns):\n",
      "Track          991 non-null object\n",
      "Explicit       991 non-null bool\n",
      "Tpopularity    991 non-null int64\n",
      "Artist         991 non-null object\n",
      "Album          991 non-null object\n",
      "Rdate          991 non-null datetime64[ns]\n",
      "dtypes: bool(1), datetime64[ns](1), int64(1), object(3)\n",
      "memory usage: 39.8+ KB\n"
     ]
    }
   ],
   "source": [
    "statidate_i.info()"
   ]
  },
  {
   "cell_type": "markdown",
   "metadata": {},
   "source": [
    "###### statidate_i entire playlist - plus all freq columns add here:"
   ]
  },
  {
   "cell_type": "code",
   "execution_count": 7,
   "metadata": {},
   "outputs": [],
   "source": [
    "statidate_i['artsongcnt'] = statidate_i.groupby('Artist')['Track'].transform('count')"
   ]
  },
  {
   "cell_type": "code",
   "execution_count": 8,
   "metadata": {},
   "outputs": [],
   "source": [
    "statidate_i['songfreq'] = statidate_i.groupby('Track')['Track'].transform('count')"
   ]
  },
  {
   "cell_type": "code",
   "execution_count": 9,
   "metadata": {},
   "outputs": [],
   "source": [
    "statidate_i['datefreq'] = statidate_i.groupby('Rdate')['Track'].transform('count')"
   ]
  },
  {
   "cell_type": "code",
   "execution_count": 10,
   "metadata": {},
   "outputs": [
    {
     "data": {
      "text/html": [
       "<div>\n",
       "<style scoped>\n",
       "    .dataframe tbody tr th:only-of-type {\n",
       "        vertical-align: middle;\n",
       "    }\n",
       "\n",
       "    .dataframe tbody tr th {\n",
       "        vertical-align: top;\n",
       "    }\n",
       "\n",
       "    .dataframe thead th {\n",
       "        text-align: right;\n",
       "    }\n",
       "</style>\n",
       "<table border=\"1\" class=\"dataframe\">\n",
       "  <thead>\n",
       "    <tr style=\"text-align: right;\">\n",
       "      <th></th>\n",
       "      <th>Track</th>\n",
       "      <th>Explicit</th>\n",
       "      <th>Tpopularity</th>\n",
       "      <th>Artist</th>\n",
       "      <th>Album</th>\n",
       "      <th>Rdate</th>\n",
       "      <th>artsongcnt</th>\n",
       "      <th>songfreq</th>\n",
       "      <th>datefreq</th>\n",
       "    </tr>\n",
       "  </thead>\n",
       "  <tbody>\n",
       "    <tr>\n",
       "      <th>0</th>\n",
       "      <td>Paradise</td>\n",
       "      <td>False</td>\n",
       "      <td>49</td>\n",
       "      <td>Voyage</td>\n",
       "      <td>Paradise</td>\n",
       "      <td>2018-02-14</td>\n",
       "      <td>1</td>\n",
       "      <td>1</td>\n",
       "      <td>1</td>\n",
       "    </tr>\n",
       "    <tr>\n",
       "      <th>1</th>\n",
       "      <td>Tech Noir</td>\n",
       "      <td>False</td>\n",
       "      <td>56</td>\n",
       "      <td>Gunship</td>\n",
       "      <td>GUNSHIP</td>\n",
       "      <td>2015-07-24</td>\n",
       "      <td>1</td>\n",
       "      <td>1</td>\n",
       "      <td>1</td>\n",
       "    </tr>\n",
       "    <tr>\n",
       "      <th>2</th>\n",
       "      <td>Yes (Symmetry Remix)</td>\n",
       "      <td>False</td>\n",
       "      <td>38</td>\n",
       "      <td>Chromatics</td>\n",
       "      <td>Yes (Love Theme From Lost River)</td>\n",
       "      <td>2015-02-03</td>\n",
       "      <td>1</td>\n",
       "      <td>1</td>\n",
       "      <td>2</td>\n",
       "    </tr>\n",
       "    <tr>\n",
       "      <th>3</th>\n",
       "      <td>Night</td>\n",
       "      <td>False</td>\n",
       "      <td>39</td>\n",
       "      <td>John Carpenter</td>\n",
       "      <td>Lost Themes</td>\n",
       "      <td>2015-02-03</td>\n",
       "      <td>1</td>\n",
       "      <td>1</td>\n",
       "      <td>2</td>\n",
       "    </tr>\n",
       "    <tr>\n",
       "      <th>4</th>\n",
       "      <td>Depth Charge</td>\n",
       "      <td>False</td>\n",
       "      <td>5</td>\n",
       "      <td>Flume</td>\n",
       "      <td>Skin Companion EP II</td>\n",
       "      <td>2017-02-17</td>\n",
       "      <td>1</td>\n",
       "      <td>1</td>\n",
       "      <td>1</td>\n",
       "    </tr>\n",
       "  </tbody>\n",
       "</table>\n",
       "</div>"
      ],
      "text/plain": [
       "                  Track  Explicit  Tpopularity          Artist  \\\n",
       "0              Paradise     False           49          Voyage   \n",
       "1             Tech Noir     False           56         Gunship   \n",
       "2  Yes (Symmetry Remix)     False           38      Chromatics   \n",
       "3                 Night     False           39  John Carpenter   \n",
       "4          Depth Charge     False            5           Flume   \n",
       "\n",
       "                              Album      Rdate  artsongcnt  songfreq  datefreq  \n",
       "0                          Paradise 2018-02-14           1         1         1  \n",
       "1                           GUNSHIP 2015-07-24           1         1         1  \n",
       "2  Yes (Love Theme From Lost River) 2015-02-03           1         1         2  \n",
       "3                       Lost Themes 2015-02-03           1         1         2  \n",
       "4              Skin Companion EP II 2017-02-17           1         1         1  "
      ]
     },
     "execution_count": 10,
     "metadata": {},
     "output_type": "execute_result"
    }
   ],
   "source": [
    "statidate_i.head()"
   ]
  }
 ],
 "metadata": {
  "kernelspec": {
   "display_name": "Python 3",
   "language": "python",
   "name": "python3"
  },
  "language_info": {
   "codemirror_mode": {
    "name": "ipython",
    "version": 3
   },
   "file_extension": ".py",
   "mimetype": "text/x-python",
   "name": "python",
   "nbconvert_exporter": "python",
   "pygments_lexer": "ipython3",
   "version": "3.7.0"
  }
 },
 "nbformat": 4,
 "nbformat_minor": 2
}
