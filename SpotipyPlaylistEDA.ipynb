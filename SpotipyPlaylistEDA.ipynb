{
 "cells": [
  {
   "cell_type": "code",
   "execution_count": 1,
   "metadata": {},
   "outputs": [],
   "source": [
    "import numpy as np\n",
    "import matplotlib.pyplot as plt\n",
    "import pandas as pd\n",
    "%matplotlib inline\n",
    "from datetime import datetime"
   ]
  },
  {
   "cell_type": "code",
   "execution_count": 2,
   "metadata": {},
   "outputs": [],
   "source": [
    "stat_df = pd.read_csv('data/statipy_results.csv')"
   ]
  },
  {
   "cell_type": "markdown",
   "metadata": {},
   "source": [
    "## statidate_i "
   ]
  },
  {
   "cell_type": "markdown",
   "metadata": {},
   "source": [
    "###### drops unnamed axis"
   ]
  },
  {
   "cell_type": "code",
   "execution_count": 3,
   "metadata": {},
   "outputs": [],
   "source": [
    "statidate_i = stat_df.drop('Unnamed: 0', axis=1)"
   ]
  },
  {
   "cell_type": "markdown",
   "metadata": {},
   "source": [
    "###### changes Rdate to datetime index"
   ]
  },
  {
   "cell_type": "code",
   "execution_count": 4,
   "metadata": {},
   "outputs": [],
   "source": [
    "statidate_i['Rdate']= pd.DatetimeIndex(statidate_i['Rdate'], freq='infer')"
   ]
  },
  {
   "cell_type": "markdown",
   "metadata": {},
   "source": [
    "###### rdate index + artsongcnt + songfreq"
   ]
  },
  {
   "cell_type": "code",
   "execution_count": 5,
   "metadata": {},
   "outputs": [],
   "source": [
    "statidate_i['artsongcnt'] = statidate_i.groupby('Artist')['Track'].transform('count')"
   ]
  },
  {
   "cell_type": "code",
   "execution_count": 6,
   "metadata": {},
   "outputs": [],
   "source": [
    "statidate_i['songfreq'] = statidate_i.groupby('Track')['Track'].transform('count')"
   ]
  },
  {
   "cell_type": "code",
   "execution_count": 7,
   "metadata": {
    "scrolled": true
   },
   "outputs": [
    {
     "name": "stdout",
     "output_type": "stream",
     "text": [
      "<class 'pandas.core.frame.DataFrame'>\n",
      "RangeIndex: 991 entries, 0 to 990\n",
      "Data columns (total 8 columns):\n",
      "Track          991 non-null object\n",
      "Explicit       991 non-null bool\n",
      "Tpopularity    991 non-null int64\n",
      "Artist         991 non-null object\n",
      "Album          991 non-null object\n",
      "Rdate          991 non-null datetime64[ns]\n",
      "artsongcnt     991 non-null int64\n",
      "songfreq       991 non-null int64\n",
      "dtypes: bool(1), datetime64[ns](1), int64(3), object(3)\n",
      "memory usage: 55.2+ KB\n"
     ]
    }
   ],
   "source": [
    "statidate_i.info()"
   ]
  },
  {
   "cell_type": "markdown",
   "metadata": {},
   "source": [
    "*********************************************"
   ]
  },
  {
   "cell_type": "markdown",
   "metadata": {},
   "source": [
    "## stat_allfreq\n",
    "### rdate index + artsongcnt + songfreq + datesongcnt"
   ]
  },
  {
   "cell_type": "code",
   "execution_count": 8,
   "metadata": {},
   "outputs": [],
   "source": [
    "stat_allfreq = statidate_i.copy()"
   ]
  },
  {
   "cell_type": "code",
   "execution_count": 9,
   "metadata": {},
   "outputs": [],
   "source": [
    "stat_allfreq['datesongcnt'] = stat_allfreq.groupby('Rdate')['Track'].transform('count')"
   ]
  },
  {
   "cell_type": "code",
   "execution_count": 10,
   "metadata": {},
   "outputs": [
    {
     "data": {
      "text/html": [
       "<div>\n",
       "<style scoped>\n",
       "    .dataframe tbody tr th:only-of-type {\n",
       "        vertical-align: middle;\n",
       "    }\n",
       "\n",
       "    .dataframe tbody tr th {\n",
       "        vertical-align: top;\n",
       "    }\n",
       "\n",
       "    .dataframe thead th {\n",
       "        text-align: right;\n",
       "    }\n",
       "</style>\n",
       "<table border=\"1\" class=\"dataframe\">\n",
       "  <thead>\n",
       "    <tr style=\"text-align: right;\">\n",
       "      <th></th>\n",
       "      <th>Track</th>\n",
       "      <th>Explicit</th>\n",
       "      <th>Tpopularity</th>\n",
       "      <th>Artist</th>\n",
       "      <th>Album</th>\n",
       "      <th>Rdate</th>\n",
       "      <th>artsongcnt</th>\n",
       "      <th>songfreq</th>\n",
       "      <th>datesongcnt</th>\n",
       "    </tr>\n",
       "  </thead>\n",
       "  <tbody>\n",
       "    <tr>\n",
       "      <th>0</th>\n",
       "      <td>Paradise</td>\n",
       "      <td>False</td>\n",
       "      <td>49</td>\n",
       "      <td>Voyage</td>\n",
       "      <td>Paradise</td>\n",
       "      <td>2018-02-14</td>\n",
       "      <td>1</td>\n",
       "      <td>1</td>\n",
       "      <td>1</td>\n",
       "    </tr>\n",
       "    <tr>\n",
       "      <th>1</th>\n",
       "      <td>Tech Noir</td>\n",
       "      <td>False</td>\n",
       "      <td>56</td>\n",
       "      <td>Gunship</td>\n",
       "      <td>GUNSHIP</td>\n",
       "      <td>2015-07-24</td>\n",
       "      <td>1</td>\n",
       "      <td>1</td>\n",
       "      <td>1</td>\n",
       "    </tr>\n",
       "    <tr>\n",
       "      <th>2</th>\n",
       "      <td>Yes (Symmetry Remix)</td>\n",
       "      <td>False</td>\n",
       "      <td>38</td>\n",
       "      <td>Chromatics</td>\n",
       "      <td>Yes (Love Theme From Lost River)</td>\n",
       "      <td>2015-02-03</td>\n",
       "      <td>1</td>\n",
       "      <td>1</td>\n",
       "      <td>2</td>\n",
       "    </tr>\n",
       "    <tr>\n",
       "      <th>3</th>\n",
       "      <td>Night</td>\n",
       "      <td>False</td>\n",
       "      <td>39</td>\n",
       "      <td>John Carpenter</td>\n",
       "      <td>Lost Themes</td>\n",
       "      <td>2015-02-03</td>\n",
       "      <td>1</td>\n",
       "      <td>1</td>\n",
       "      <td>2</td>\n",
       "    </tr>\n",
       "    <tr>\n",
       "      <th>4</th>\n",
       "      <td>Depth Charge</td>\n",
       "      <td>False</td>\n",
       "      <td>5</td>\n",
       "      <td>Flume</td>\n",
       "      <td>Skin Companion EP II</td>\n",
       "      <td>2017-02-17</td>\n",
       "      <td>1</td>\n",
       "      <td>1</td>\n",
       "      <td>1</td>\n",
       "    </tr>\n",
       "  </tbody>\n",
       "</table>\n",
       "</div>"
      ],
      "text/plain": [
       "                  Track  Explicit  Tpopularity          Artist  \\\n",
       "0              Paradise     False           49          Voyage   \n",
       "1             Tech Noir     False           56         Gunship   \n",
       "2  Yes (Symmetry Remix)     False           38      Chromatics   \n",
       "3                 Night     False           39  John Carpenter   \n",
       "4          Depth Charge     False            5           Flume   \n",
       "\n",
       "                              Album      Rdate  artsongcnt  songfreq  \\\n",
       "0                          Paradise 2018-02-14           1         1   \n",
       "1                           GUNSHIP 2015-07-24           1         1   \n",
       "2  Yes (Love Theme From Lost River) 2015-02-03           1         1   \n",
       "3                       Lost Themes 2015-02-03           1         1   \n",
       "4              Skin Companion EP II 2017-02-17           1         1   \n",
       "\n",
       "   datesongcnt  \n",
       "0            1  \n",
       "1            1  \n",
       "2            2  \n",
       "3            2  \n",
       "4            1  "
      ]
     },
     "execution_count": 10,
     "metadata": {},
     "output_type": "execute_result"
    }
   ],
   "source": [
    "stat_allfreq.head()"
   ]
  },
  {
   "cell_type": "markdown",
   "metadata": {},
   "source": [
    "************************************"
   ]
  },
  {
   "cell_type": "markdown",
   "metadata": {},
   "source": [
    "## statipy_yr\n",
    "### rdate YEAR + songfreq + artsongcnt + yrsongcnt"
   ]
  },
  {
   "cell_type": "code",
   "execution_count": 11,
   "metadata": {},
   "outputs": [],
   "source": [
    "statipy_yr = statidate_i.copy()"
   ]
  },
  {
   "cell_type": "code",
   "execution_count": 12,
   "metadata": {},
   "outputs": [],
   "source": [
    "statipy_yr['Rdate'] = pd.DatetimeIndex(statipy_yr['Rdate']).year"
   ]
  },
  {
   "cell_type": "code",
   "execution_count": 13,
   "metadata": {},
   "outputs": [],
   "source": [
    "statipy_yr['yrsongcnt'] = statipy_yr.groupby('Rdate')['Track'].transform('count')"
   ]
  },
  {
   "cell_type": "code",
   "execution_count": 14,
   "metadata": {
    "scrolled": false
   },
   "outputs": [
    {
     "data": {
      "text/html": [
       "<div>\n",
       "<style scoped>\n",
       "    .dataframe tbody tr th:only-of-type {\n",
       "        vertical-align: middle;\n",
       "    }\n",
       "\n",
       "    .dataframe tbody tr th {\n",
       "        vertical-align: top;\n",
       "    }\n",
       "\n",
       "    .dataframe thead th {\n",
       "        text-align: right;\n",
       "    }\n",
       "</style>\n",
       "<table border=\"1\" class=\"dataframe\">\n",
       "  <thead>\n",
       "    <tr style=\"text-align: right;\">\n",
       "      <th></th>\n",
       "      <th>Track</th>\n",
       "      <th>Explicit</th>\n",
       "      <th>Tpopularity</th>\n",
       "      <th>Artist</th>\n",
       "      <th>Album</th>\n",
       "      <th>Rdate</th>\n",
       "      <th>artsongcnt</th>\n",
       "      <th>songfreq</th>\n",
       "      <th>yrsongcnt</th>\n",
       "    </tr>\n",
       "  </thead>\n",
       "  <tbody>\n",
       "    <tr>\n",
       "      <th>0</th>\n",
       "      <td>Paradise</td>\n",
       "      <td>False</td>\n",
       "      <td>49</td>\n",
       "      <td>Voyage</td>\n",
       "      <td>Paradise</td>\n",
       "      <td>2018</td>\n",
       "      <td>1</td>\n",
       "      <td>1</td>\n",
       "      <td>118</td>\n",
       "    </tr>\n",
       "    <tr>\n",
       "      <th>1</th>\n",
       "      <td>Tech Noir</td>\n",
       "      <td>False</td>\n",
       "      <td>56</td>\n",
       "      <td>Gunship</td>\n",
       "      <td>GUNSHIP</td>\n",
       "      <td>2015</td>\n",
       "      <td>1</td>\n",
       "      <td>1</td>\n",
       "      <td>61</td>\n",
       "    </tr>\n",
       "    <tr>\n",
       "      <th>2</th>\n",
       "      <td>Yes (Symmetry Remix)</td>\n",
       "      <td>False</td>\n",
       "      <td>38</td>\n",
       "      <td>Chromatics</td>\n",
       "      <td>Yes (Love Theme From Lost River)</td>\n",
       "      <td>2015</td>\n",
       "      <td>1</td>\n",
       "      <td>1</td>\n",
       "      <td>61</td>\n",
       "    </tr>\n",
       "    <tr>\n",
       "      <th>3</th>\n",
       "      <td>Night</td>\n",
       "      <td>False</td>\n",
       "      <td>39</td>\n",
       "      <td>John Carpenter</td>\n",
       "      <td>Lost Themes</td>\n",
       "      <td>2015</td>\n",
       "      <td>1</td>\n",
       "      <td>1</td>\n",
       "      <td>61</td>\n",
       "    </tr>\n",
       "    <tr>\n",
       "      <th>4</th>\n",
       "      <td>Depth Charge</td>\n",
       "      <td>False</td>\n",
       "      <td>5</td>\n",
       "      <td>Flume</td>\n",
       "      <td>Skin Companion EP II</td>\n",
       "      <td>2017</td>\n",
       "      <td>1</td>\n",
       "      <td>1</td>\n",
       "      <td>142</td>\n",
       "    </tr>\n",
       "  </tbody>\n",
       "</table>\n",
       "</div>"
      ],
      "text/plain": [
       "                  Track  Explicit  Tpopularity          Artist  \\\n",
       "0              Paradise     False           49          Voyage   \n",
       "1             Tech Noir     False           56         Gunship   \n",
       "2  Yes (Symmetry Remix)     False           38      Chromatics   \n",
       "3                 Night     False           39  John Carpenter   \n",
       "4          Depth Charge     False            5           Flume   \n",
       "\n",
       "                              Album  Rdate  artsongcnt  songfreq  yrsongcnt  \n",
       "0                          Paradise   2018           1         1        118  \n",
       "1                           GUNSHIP   2015           1         1         61  \n",
       "2  Yes (Love Theme From Lost River)   2015           1         1         61  \n",
       "3                       Lost Themes   2015           1         1         61  \n",
       "4              Skin Companion EP II   2017           1         1        142  "
      ]
     },
     "execution_count": 14,
     "metadata": {},
     "output_type": "execute_result"
    }
   ],
   "source": [
    "statipy_yr.head()"
   ]
  },
  {
   "cell_type": "markdown",
   "metadata": {},
   "source": [
    "******************************************\n",
    "******************************************"
   ]
  },
  {
   "cell_type": "markdown",
   "metadata": {},
   "source": [
    "## START: Clean data - \n",
    "    ### stat_allfreq = rdate index + artsongcnt + songfreq + datesongcnt\n",
    "    ### statipy_yr = rdate year + artsongcnt + songfreq + yrsongcnt"
   ]
  },
  {
   "cell_type": "markdown",
   "metadata": {},
   "source": [
    "# 1.  DATE\n",
    "**********************************"
   ]
  },
  {
   "cell_type": "markdown",
   "metadata": {},
   "source": [
    "## GROUP A - yearly\n",
    "#### Rdate Year full statistics"
   ]
  },
  {
   "cell_type": "code",
   "execution_count": 15,
   "metadata": {},
   "outputs": [
    {
     "data": {
      "text/html": [
       "<div>\n",
       "<style scoped>\n",
       "    .dataframe tbody tr th:only-of-type {\n",
       "        vertical-align: middle;\n",
       "    }\n",
       "\n",
       "    .dataframe tbody tr th {\n",
       "        vertical-align: top;\n",
       "    }\n",
       "\n",
       "    .dataframe thead th {\n",
       "        text-align: right;\n",
       "    }\n",
       "</style>\n",
       "<table border=\"1\" class=\"dataframe\">\n",
       "  <thead>\n",
       "    <tr style=\"text-align: right;\">\n",
       "      <th></th>\n",
       "      <th>Explicit</th>\n",
       "      <th>Tpopularity</th>\n",
       "      <th>artsongcnt</th>\n",
       "      <th>songfreq</th>\n",
       "      <th>yrsongcnt</th>\n",
       "    </tr>\n",
       "    <tr>\n",
       "      <th>Rdate</th>\n",
       "      <th></th>\n",
       "      <th></th>\n",
       "      <th></th>\n",
       "      <th></th>\n",
       "      <th></th>\n",
       "    </tr>\n",
       "  </thead>\n",
       "  <tbody>\n",
       "    <tr>\n",
       "      <th>1933</th>\n",
       "      <td>0.0</td>\n",
       "      <td>42.666667</td>\n",
       "      <td>7.0</td>\n",
       "      <td>1.0</td>\n",
       "      <td>3.0</td>\n",
       "    </tr>\n",
       "    <tr>\n",
       "      <th>1937</th>\n",
       "      <td>0.0</td>\n",
       "      <td>55.000000</td>\n",
       "      <td>1.0</td>\n",
       "      <td>1.0</td>\n",
       "      <td>1.0</td>\n",
       "    </tr>\n",
       "    <tr>\n",
       "      <th>1941</th>\n",
       "      <td>0.0</td>\n",
       "      <td>44.000000</td>\n",
       "      <td>4.0</td>\n",
       "      <td>1.0</td>\n",
       "      <td>1.0</td>\n",
       "    </tr>\n",
       "    <tr>\n",
       "      <th>1955</th>\n",
       "      <td>0.0</td>\n",
       "      <td>48.000000</td>\n",
       "      <td>4.0</td>\n",
       "      <td>1.0</td>\n",
       "      <td>1.0</td>\n",
       "    </tr>\n",
       "    <tr>\n",
       "      <th>1956</th>\n",
       "      <td>0.0</td>\n",
       "      <td>43.800000</td>\n",
       "      <td>6.2</td>\n",
       "      <td>1.0</td>\n",
       "      <td>10.0</td>\n",
       "    </tr>\n",
       "  </tbody>\n",
       "</table>\n",
       "</div>"
      ],
      "text/plain": [
       "       Explicit  Tpopularity  artsongcnt  songfreq  yrsongcnt\n",
       "Rdate                                                        \n",
       "1933        0.0    42.666667         7.0       1.0        3.0\n",
       "1937        0.0    55.000000         1.0       1.0        1.0\n",
       "1941        0.0    44.000000         4.0       1.0        1.0\n",
       "1955        0.0    48.000000         4.0       1.0        1.0\n",
       "1956        0.0    43.800000         6.2       1.0       10.0"
      ]
     },
     "execution_count": 15,
     "metadata": {},
     "output_type": "execute_result"
    }
   ],
   "source": [
    "yearly = statipy_yr.groupby(['Rdate']).mean()\n",
    "yearly.head()"
   ]
  },
  {
   "cell_type": "markdown",
   "metadata": {},
   "source": [
    "## GROUP B - tr3y, tr2y tr1y\n",
    "#### Rdate Year most repeat tracks (song freq)"
   ]
  },
  {
   "cell_type": "code",
   "execution_count": 16,
   "metadata": {},
   "outputs": [],
   "source": [
    "tr3y = statipy_yr[statipy_yr['songfreq']>=3]\n",
    "tr2y = statipy_yr[statipy_yr['songfreq']==2]\n",
    "tr1y = statipy_yr[statipy_yr['songfreq']<=1]"
   ]
  },
  {
   "cell_type": "code",
   "execution_count": 17,
   "metadata": {},
   "outputs": [
    {
     "data": {
      "text/plain": [
       "<matplotlib.axes._subplots.AxesSubplot at 0x10e60c2b0>"
      ]
     },
     "execution_count": 17,
     "metadata": {},
     "output_type": "execute_result"
    },
    {
     "data": {
      "image/png": "[encoded data removed]",
      "text/plain": [
       "<Figure size 432x288 with 1 Axes>"
      ]
     },
     "metadata": {
      "needs_background": "light"
     },
     "output_type": "display_data"
    }
   ],
   "source": [
    "tr3y.groupby(['Rdate'])['Tpopularity'].mean().plot.line(stacked=True, alpha=1)\n",
    "tr2y.groupby(['Rdate'])['Tpopularity'].mean().plot.line(stacked=True, alpha=0.50)\n",
    "tr1y.groupby(['Rdate'])['Tpopularity'].mean().plot.line(stacked=True, alpha=0.25)"
   ]
  },
  {
   "cell_type": "markdown",
   "metadata": {},
   "source": [
    "## GROUP C\n",
    "#### Rdate Year most tracks per year\n",
    "#### date_i = year-date (most freq - yrsongcnt) / date_max = year-date (top >=15 only - yrsongcnt)"
   ]
  },
  {
   "cell_type": "code",
   "execution_count": 18,
   "metadata": {},
   "outputs": [],
   "source": [
    "freqdates = statipy_yr[statipy_yr['yrsongcnt']>=8]\n",
    "maxfreqdates = statipy_yr[statipy_yr['yrsongcnt']>=15]\n",
    "minfreqdates = statipy_yr[statipy_yr['yrsongcnt']==1]"
   ]
  },
  {
   "cell_type": "code",
   "execution_count": 19,
   "metadata": {},
   "outputs": [],
   "source": [
    "date_i = freqdates.groupby(['Rdate'])[['Explicit', 'Tpopularity', 'yrsongcnt']].mean()"
   ]
  },
  {
   "cell_type": "code",
   "execution_count": 20,
   "metadata": {},
   "outputs": [],
   "source": [
    "date_max = maxfreqdates.groupby(['Rdate'])[['Explicit', 'Tpopularity', 'yrsongcnt']].mean()"
   ]
  },
  {
   "cell_type": "code",
   "execution_count": 21,
   "metadata": {},
   "outputs": [
    {
     "data": {
      "text/plain": [
       "<matplotlib.axes._subplots.AxesSubplot at 0x11f38c9b0>"
      ]
     },
     "execution_count": 21,
     "metadata": {},
     "output_type": "execute_result"
    },
    {
     "data": {
      "image/png": "[encoded data removed]",
      "text/plain": [
       "<Figure size 432x288 with 1 Axes>"
      ]
     },
     "metadata": {
      "needs_background": "light"
     },
     "output_type": "display_data"
    }
   ],
   "source": [
    "date_i.plot()"
   ]
  },
  {
   "cell_type": "code",
   "execution_count": 22,
   "metadata": {},
   "outputs": [
    {
     "data": {
      "text/plain": [
       "<matplotlib.axes._subplots.AxesSubplot at 0x11f4e1fd0>"
      ]
     },
     "execution_count": 22,
     "metadata": {},
     "output_type": "execute_result"
    },
    {
     "data": {
      "image/png": "[encoded data removed]",
      "text/plain": [
       "<Figure size 432x288 with 1 Axes>"
      ]
     },
     "metadata": {
      "needs_background": "light"
     },
     "output_type": "display_data"
    }
   ],
   "source": [
    "date_max.plot()"
   ]
  },
  {
   "cell_type": "markdown",
   "metadata": {},
   "source": [
    "## GROUP D\n",
    "#### Rdate Year stats:: explicit avg x pop avg x yrsongcnt per YR"
   ]
  },
  {
   "cell_type": "code",
   "execution_count": 23,
   "metadata": {},
   "outputs": [
    {
     "data": {
      "text/plain": [
       "<matplotlib.axes._subplots.AxesSubplot at 0x11f87e6d8>"
      ]
     },
     "execution_count": 23,
     "metadata": {},
     "output_type": "execute_result"
    },
    {
     "data": {
      "image/png": "[encoded data removed]",
      "text/plain": [
       "<Figure size 432x288 with 1 Axes>"
      ]
     },
     "metadata": {
      "needs_background": "light"
     },
     "output_type": "display_data"
    }
   ],
   "source": [
    "statipy_yr.groupby('Rdate')['yrsongcnt'].mean().plot.line(stacked=True, grid=True)\n",
    "statipy_yr.groupby('Rdate')['Tpopularity'].mean().plot.line(stacked=True, grid=True)"
   ]
  },
  {
   "cell_type": "markdown",
   "metadata": {},
   "source": [
    "#####  explicit avg only / year"
   ]
  },
  {
   "cell_type": "code",
   "execution_count": 24,
   "metadata": {},
   "outputs": [
    {
     "data": {
      "text/plain": [
       "<matplotlib.axes._subplots.AxesSubplot at 0x11f92ef60>"
      ]
     },
     "execution_count": 24,
     "metadata": {},
     "output_type": "execute_result"
    },
    {
     "data": {
      "image/png": "[encoded data removed]",
      "text/plain": [
       "<Figure size 432x288 with 1 Axes>"
      ]
     },
     "metadata": {
      "needs_background": "light"
     },
     "output_type": "display_data"
    }
   ],
   "source": [
    "statipy_yr.groupby('Rdate')['Explicit'].mean().plot.line(stacked=True, grid=True)"
   ]
  },
  {
   "cell_type": "markdown",
   "metadata": {},
   "source": [
    "## GROUP E\n",
    "#### Rdate Year X yrsongcount 1 (mindate)"
   ]
  },
  {
   "cell_type": "code",
   "execution_count": 31,
   "metadata": {},
   "outputs": [
    {
     "data": {
      "text/html": [
       "<div>\n",
       "<style scoped>\n",
       "    .dataframe tbody tr th:only-of-type {\n",
       "        vertical-align: middle;\n",
       "    }\n",
       "\n",
       "    .dataframe tbody tr th {\n",
       "        vertical-align: top;\n",
       "    }\n",
       "\n",
       "    .dataframe thead th {\n",
       "        text-align: right;\n",
       "    }\n",
       "</style>\n",
       "<table border=\"1\" class=\"dataframe\">\n",
       "  <thead>\n",
       "    <tr style=\"text-align: right;\">\n",
       "      <th></th>\n",
       "      <th>Track</th>\n",
       "      <th>Explicit</th>\n",
       "      <th>Tpopularity</th>\n",
       "      <th>Artist</th>\n",
       "      <th>Album</th>\n",
       "      <th>Rdate</th>\n",
       "      <th>artsongcnt</th>\n",
       "      <th>songfreq</th>\n",
       "      <th>datesongcnt</th>\n",
       "    </tr>\n",
       "  </thead>\n",
       "  <tbody>\n",
       "    <tr>\n",
       "      <th>0</th>\n",
       "      <td>Paradise</td>\n",
       "      <td>False</td>\n",
       "      <td>49</td>\n",
       "      <td>Voyage</td>\n",
       "      <td>Paradise</td>\n",
       "      <td>2018-02-14</td>\n",
       "      <td>1</td>\n",
       "      <td>1</td>\n",
       "      <td>1</td>\n",
       "    </tr>\n",
       "    <tr>\n",
       "      <th>1</th>\n",
       "      <td>Tech Noir</td>\n",
       "      <td>False</td>\n",
       "      <td>56</td>\n",
       "      <td>Gunship</td>\n",
       "      <td>GUNSHIP</td>\n",
       "      <td>2015-07-24</td>\n",
       "      <td>1</td>\n",
       "      <td>1</td>\n",
       "      <td>1</td>\n",
       "    </tr>\n",
       "    <tr>\n",
       "      <th>4</th>\n",
       "      <td>Depth Charge</td>\n",
       "      <td>False</td>\n",
       "      <td>5</td>\n",
       "      <td>Flume</td>\n",
       "      <td>Skin Companion EP II</td>\n",
       "      <td>2017-02-17</td>\n",
       "      <td>1</td>\n",
       "      <td>1</td>\n",
       "      <td>1</td>\n",
       "    </tr>\n",
       "    <tr>\n",
       "      <th>7</th>\n",
       "      <td>Level Ya Pussy Up</td>\n",
       "      <td>False</td>\n",
       "      <td>49</td>\n",
       "      <td>Aja</td>\n",
       "      <td>Level Ya Pussy Up</td>\n",
       "      <td>2017-02-02</td>\n",
       "      <td>5</td>\n",
       "      <td>1</td>\n",
       "      <td>1</td>\n",
       "    </tr>\n",
       "    <tr>\n",
       "      <th>8</th>\n",
       "      <td>Pose</td>\n",
       "      <td>False</td>\n",
       "      <td>55</td>\n",
       "      <td>Naomi Smalls</td>\n",
       "      <td>Pose</td>\n",
       "      <td>2018-12-27</td>\n",
       "      <td>1</td>\n",
       "      <td>1</td>\n",
       "      <td>1</td>\n",
       "    </tr>\n",
       "  </tbody>\n",
       "</table>\n",
       "</div>"
      ],
      "text/plain": [
       "               Track  Explicit  Tpopularity        Artist  \\\n",
       "0           Paradise     False           49        Voyage   \n",
       "1          Tech Noir     False           56       Gunship   \n",
       "4       Depth Charge     False            5         Flume   \n",
       "7  Level Ya Pussy Up     False           49           Aja   \n",
       "8               Pose     False           55  Naomi Smalls   \n",
       "\n",
       "                  Album      Rdate  artsongcnt  songfreq  datesongcnt  \n",
       "0              Paradise 2018-02-14           1         1            1  \n",
       "1               GUNSHIP 2015-07-24           1         1            1  \n",
       "4  Skin Companion EP II 2017-02-17           1         1            1  \n",
       "7     Level Ya Pussy Up 2017-02-02           5         1            1  \n",
       "8                  Pose 2018-12-27           1         1            1  "
      ]
     },
     "execution_count": 31,
     "metadata": {},
     "output_type": "execute_result"
    }
   ],
   "source": [
    "#dates with least tracks per YEAR\n",
    "mindate = stat_allfreq[stat_allfreq['datesongcnt']==1]\n",
    "mindate.head()"
   ]
  },
  {
   "cell_type": "markdown",
   "metadata": {},
   "source": [
    "#### Rdate Yr plots albums by date by track popularity over explicit content."
   ]
  },
  {
   "cell_type": "code",
   "execution_count": 39,
   "metadata": {},
   "outputs": [
    {
     "data": {
      "text/plain": [
       "43.71241170534813"
      ]
     },
     "execution_count": 39,
     "metadata": {},
     "output_type": "execute_result"
    }
   ],
   "source": [
    "statipy_yr['Tpopularity'].mean()"
   ]
  },
  {
   "cell_type": "code",
   "execution_count": 40,
   "metadata": {},
   "outputs": [
    {
     "data": {
      "image/png": "[encoded data removed]",
      "text/plain": [
       "<Figure size 1152x1152 with 1 Axes>"
      ]
     },
     "metadata": {
      "needs_background": "light"
     },
     "output_type": "display_data"
    }
   ],
   "source": [
    "popular_tracks= statipy_yr[statipy_yr['Tpopularity']>=43.71]\n",
    "x = popular_tracks.groupby(['Album'])['Tpopularity'].mean()\n",
    "y = popular_tracks.groupby(['Album'])['Explicit'].count()\n",
    "s = popular_tracks.groupby(['Album'])['Track'].count()\n",
    "\n",
    "fig, ax = plt.subplots(figsize=(16, 16))\n",
    "ax.scatter(y, x, s*100, alpha=0.10);\n",
    "ax.set_ylabel('Avg Album Popularity')\n",
    "ax.set_xlabel('Explicit Tracks per Album')\n",
    "\n",
    "plt.show()"
   ]
  },
  {
   "cell_type": "markdown",
   "metadata": {},
   "source": [
    "#### Rdate by track popularity over explicit content. with number of tracks to size"
   ]
  },
  {
   "cell_type": "code",
   "execution_count": 41,
   "metadata": {},
   "outputs": [
    {
     "data": {
      "image/png": "[encoded data removed]",
      "text/plain": [
       "<Figure size 1440x1152 with 1 Axes>"
      ]
     },
     "metadata": {
      "needs_background": "light"
     },
     "output_type": "display_data"
    }
   ],
   "source": [
    "x = statipy_yr.groupby(['Rdate'])['Tpopularity'].mean()\n",
    "y = statipy_yr.groupby(['Rdate'])[['Explicit']].count()\n",
    "\n",
    "fig, ax = plt.subplots(figsize=(20, 16))\n",
    "ax.scatter(x=x, y=y, s=statipy_yr['artsongcnt']*5);\n",
    "ax.set_xlabel('Avg Album Popularity')\n",
    "ax.set_ylabel('Explicit Tracks per Album')\n",
    "\n",
    "plt.show()"
   ]
  },
  {
   "cell_type": "markdown",
   "metadata": {},
   "source": [
    "# 2. ARTISTS\n",
    "************************************\n",
    "\n",
    "## GROUP A - artstatsy\n",
    "#### artists full statistics per clean data \n",
    "top - Tpopularity, Explicit, Songfreq"
   ]
  },
  {
   "cell_type": "code",
   "execution_count": 43,
   "metadata": {
    "scrolled": true
   },
   "outputs": [
    {
     "data": {
      "text/html": [
       "<div>\n",
       "<style scoped>\n",
       "    .dataframe tbody tr th:only-of-type {\n",
       "        vertical-align: middle;\n",
       "    }\n",
       "\n",
       "    .dataframe tbody tr th {\n",
       "        vertical-align: top;\n",
       "    }\n",
       "\n",
       "    .dataframe thead th {\n",
       "        text-align: right;\n",
       "    }\n",
       "</style>\n",
       "<table border=\"1\" class=\"dataframe\">\n",
       "  <thead>\n",
       "    <tr style=\"text-align: right;\">\n",
       "      <th></th>\n",
       "      <th></th>\n",
       "      <th>Explicit</th>\n",
       "      <th>Tpopularity</th>\n",
       "      <th>artsongcnt</th>\n",
       "      <th>songfreq</th>\n",
       "      <th>yrsongcnt</th>\n",
       "    </tr>\n",
       "    <tr>\n",
       "      <th>Artist</th>\n",
       "      <th>Rdate</th>\n",
       "      <th></th>\n",
       "      <th></th>\n",
       "      <th></th>\n",
       "      <th></th>\n",
       "      <th></th>\n",
       "    </tr>\n",
       "  </thead>\n",
       "  <tbody>\n",
       "    <tr>\n",
       "      <th>!!!</th>\n",
       "      <th>2017</th>\n",
       "      <td>0.0</td>\n",
       "      <td>38.000000</td>\n",
       "      <td>2.0</td>\n",
       "      <td>2.000000</td>\n",
       "      <td>142.0</td>\n",
       "    </tr>\n",
       "    <tr>\n",
       "      <th>2Pac</th>\n",
       "      <th>2014</th>\n",
       "      <td>1.0</td>\n",
       "      <td>43.000000</td>\n",
       "      <td>1.0</td>\n",
       "      <td>1.000000</td>\n",
       "      <td>47.0</td>\n",
       "    </tr>\n",
       "    <tr>\n",
       "      <th>Aaron Copland</th>\n",
       "      <th>1960</th>\n",
       "      <td>0.0</td>\n",
       "      <td>50.000000</td>\n",
       "      <td>1.0</td>\n",
       "      <td>1.000000</td>\n",
       "      <td>4.0</td>\n",
       "    </tr>\n",
       "    <tr>\n",
       "      <th>Adam Joseph</th>\n",
       "      <th>2017</th>\n",
       "      <td>0.0</td>\n",
       "      <td>40.000000</td>\n",
       "      <td>1.0</td>\n",
       "      <td>1.000000</td>\n",
       "      <td>142.0</td>\n",
       "    </tr>\n",
       "    <tr>\n",
       "      <th>Adore Delano</th>\n",
       "      <th>2014</th>\n",
       "      <td>1.0</td>\n",
       "      <td>49.000000</td>\n",
       "      <td>1.0</td>\n",
       "      <td>1.000000</td>\n",
       "      <td>47.0</td>\n",
       "    </tr>\n",
       "    <tr>\n",
       "      <th>Adrianne Lenker</th>\n",
       "      <th>2018</th>\n",
       "      <td>0.0</td>\n",
       "      <td>58.000000</td>\n",
       "      <td>1.0</td>\n",
       "      <td>1.000000</td>\n",
       "      <td>118.0</td>\n",
       "    </tr>\n",
       "    <tr>\n",
       "      <th>Agnes Obel</th>\n",
       "      <th>2013</th>\n",
       "      <td>0.0</td>\n",
       "      <td>53.000000</td>\n",
       "      <td>1.0</td>\n",
       "      <td>1.000000</td>\n",
       "      <td>24.0</td>\n",
       "    </tr>\n",
       "    <tr>\n",
       "      <th>Ah-Mer-Ah-Su</th>\n",
       "      <th>2017</th>\n",
       "      <td>0.0</td>\n",
       "      <td>5.000000</td>\n",
       "      <td>2.0</td>\n",
       "      <td>2.000000</td>\n",
       "      <td>142.0</td>\n",
       "    </tr>\n",
       "    <tr>\n",
       "      <th rowspan=\"2\" valign=\"top\">Aja</th>\n",
       "      <th>2017</th>\n",
       "      <td>0.5</td>\n",
       "      <td>48.000000</td>\n",
       "      <td>5.0</td>\n",
       "      <td>1.000000</td>\n",
       "      <td>142.0</td>\n",
       "    </tr>\n",
       "    <tr>\n",
       "      <th>2018</th>\n",
       "      <td>1.0</td>\n",
       "      <td>43.000000</td>\n",
       "      <td>5.0</td>\n",
       "      <td>1.000000</td>\n",
       "      <td>118.0</td>\n",
       "    </tr>\n",
       "    <tr>\n",
       "      <th>Al B. Sure!</th>\n",
       "      <th>1988</th>\n",
       "      <td>0.0</td>\n",
       "      <td>53.000000</td>\n",
       "      <td>1.0</td>\n",
       "      <td>1.000000</td>\n",
       "      <td>8.0</td>\n",
       "    </tr>\n",
       "    <tr>\n",
       "      <th rowspan=\"2\" valign=\"top\">Alabama Shakes</th>\n",
       "      <th>2012</th>\n",
       "      <td>0.0</td>\n",
       "      <td>52.000000</td>\n",
       "      <td>4.0</td>\n",
       "      <td>2.000000</td>\n",
       "      <td>25.0</td>\n",
       "    </tr>\n",
       "    <tr>\n",
       "      <th>2015</th>\n",
       "      <td>0.0</td>\n",
       "      <td>43.333333</td>\n",
       "      <td>4.0</td>\n",
       "      <td>1.000000</td>\n",
       "      <td>61.0</td>\n",
       "    </tr>\n",
       "    <tr>\n",
       "      <th rowspan=\"2\" valign=\"top\">Alaska Thunderfuck</th>\n",
       "      <th>2015</th>\n",
       "      <td>0.0</td>\n",
       "      <td>46.500000</td>\n",
       "      <td>4.0</td>\n",
       "      <td>1.000000</td>\n",
       "      <td>61.0</td>\n",
       "    </tr>\n",
       "    <tr>\n",
       "      <th>2016</th>\n",
       "      <td>1.0</td>\n",
       "      <td>48.000000</td>\n",
       "      <td>4.0</td>\n",
       "      <td>1.000000</td>\n",
       "      <td>56.0</td>\n",
       "    </tr>\n",
       "    <tr>\n",
       "      <th>Alban Berg</th>\n",
       "      <th>2012</th>\n",
       "      <td>0.0</td>\n",
       "      <td>45.000000</td>\n",
       "      <td>1.0</td>\n",
       "      <td>1.000000</td>\n",
       "      <td>25.0</td>\n",
       "    </tr>\n",
       "    <tr>\n",
       "      <th>Alice Cooper</th>\n",
       "      <th>1972</th>\n",
       "      <td>0.0</td>\n",
       "      <td>66.000000</td>\n",
       "      <td>1.0</td>\n",
       "      <td>1.000000</td>\n",
       "      <td>3.0</td>\n",
       "    </tr>\n",
       "    <tr>\n",
       "      <th>Allen Toussaint</th>\n",
       "      <th>1975</th>\n",
       "      <td>0.0</td>\n",
       "      <td>22.000000</td>\n",
       "      <td>1.0</td>\n",
       "      <td>1.000000</td>\n",
       "      <td>2.0</td>\n",
       "    </tr>\n",
       "    <tr>\n",
       "      <th>Amadou &amp; Mariam</th>\n",
       "      <th>2008</th>\n",
       "      <td>0.0</td>\n",
       "      <td>30.000000</td>\n",
       "      <td>2.0</td>\n",
       "      <td>2.000000</td>\n",
       "      <td>21.0</td>\n",
       "    </tr>\n",
       "    <tr>\n",
       "      <th>Amara La Negra</th>\n",
       "      <th>2018</th>\n",
       "      <td>0.0</td>\n",
       "      <td>46.000000</td>\n",
       "      <td>1.0</td>\n",
       "      <td>1.000000</td>\n",
       "      <td>118.0</td>\n",
       "    </tr>\n",
       "    <tr>\n",
       "      <th>Angel Haze</th>\n",
       "      <th>2012</th>\n",
       "      <td>1.0</td>\n",
       "      <td>52.000000</td>\n",
       "      <td>4.0</td>\n",
       "      <td>4.000000</td>\n",
       "      <td>25.0</td>\n",
       "    </tr>\n",
       "    <tr>\n",
       "      <th>Angel Olsen</th>\n",
       "      <th>2016</th>\n",
       "      <td>0.0</td>\n",
       "      <td>50.000000</td>\n",
       "      <td>1.0</td>\n",
       "      <td>1.000000</td>\n",
       "      <td>56.0</td>\n",
       "    </tr>\n",
       "    <tr>\n",
       "      <th rowspan=\"4\" valign=\"top\">Anita O'Day</th>\n",
       "      <th>1941</th>\n",
       "      <td>0.0</td>\n",
       "      <td>44.000000</td>\n",
       "      <td>4.0</td>\n",
       "      <td>1.000000</td>\n",
       "      <td>1.0</td>\n",
       "    </tr>\n",
       "    <tr>\n",
       "      <th>1955</th>\n",
       "      <td>0.0</td>\n",
       "      <td>48.000000</td>\n",
       "      <td>4.0</td>\n",
       "      <td>1.000000</td>\n",
       "      <td>1.0</td>\n",
       "    </tr>\n",
       "    <tr>\n",
       "      <th>1961</th>\n",
       "      <td>0.0</td>\n",
       "      <td>45.000000</td>\n",
       "      <td>4.0</td>\n",
       "      <td>1.000000</td>\n",
       "      <td>1.0</td>\n",
       "    </tr>\n",
       "    <tr>\n",
       "      <th>2015</th>\n",
       "      <td>0.0</td>\n",
       "      <td>57.000000</td>\n",
       "      <td>4.0</td>\n",
       "      <td>1.000000</td>\n",
       "      <td>61.0</td>\n",
       "    </tr>\n",
       "    <tr>\n",
       "      <th rowspan=\"2\" valign=\"top\">Antonio Vivaldi</th>\n",
       "      <th>2014</th>\n",
       "      <td>0.0</td>\n",
       "      <td>63.000000</td>\n",
       "      <td>2.0</td>\n",
       "      <td>1.000000</td>\n",
       "      <td>47.0</td>\n",
       "    </tr>\n",
       "    <tr>\n",
       "      <th>2018</th>\n",
       "      <td>0.0</td>\n",
       "      <td>42.000000</td>\n",
       "      <td>2.0</td>\n",
       "      <td>1.000000</td>\n",
       "      <td>118.0</td>\n",
       "    </tr>\n",
       "    <tr>\n",
       "      <th>Aquaria</th>\n",
       "      <th>2018</th>\n",
       "      <td>0.0</td>\n",
       "      <td>38.000000</td>\n",
       "      <td>1.0</td>\n",
       "      <td>1.000000</td>\n",
       "      <td>118.0</td>\n",
       "    </tr>\n",
       "    <tr>\n",
       "      <th>Aretha Franklin</th>\n",
       "      <th>1967</th>\n",
       "      <td>0.0</td>\n",
       "      <td>73.000000</td>\n",
       "      <td>1.0</td>\n",
       "      <td>1.000000</td>\n",
       "      <td>3.0</td>\n",
       "    </tr>\n",
       "    <tr>\n",
       "      <th>...</th>\n",
       "      <th>...</th>\n",
       "      <td>...</td>\n",
       "      <td>...</td>\n",
       "      <td>...</td>\n",
       "      <td>...</td>\n",
       "      <td>...</td>\n",
       "    </tr>\n",
       "    <tr>\n",
       "      <th>Whitney Houston</th>\n",
       "      <th>2006</th>\n",
       "      <td>0.0</td>\n",
       "      <td>55.000000</td>\n",
       "      <td>2.0</td>\n",
       "      <td>1.000000</td>\n",
       "      <td>18.0</td>\n",
       "    </tr>\n",
       "    <tr>\n",
       "      <th>Wilbert Harrison</th>\n",
       "      <th>2007</th>\n",
       "      <td>0.0</td>\n",
       "      <td>6.000000</td>\n",
       "      <td>2.0</td>\n",
       "      <td>2.000000</td>\n",
       "      <td>41.0</td>\n",
       "    </tr>\n",
       "    <tr>\n",
       "      <th rowspan=\"2\" valign=\"top\">Willam</th>\n",
       "      <th>2013</th>\n",
       "      <td>0.0</td>\n",
       "      <td>40.000000</td>\n",
       "      <td>2.0</td>\n",
       "      <td>1.000000</td>\n",
       "      <td>24.0</td>\n",
       "    </tr>\n",
       "    <tr>\n",
       "      <th>2015</th>\n",
       "      <td>0.0</td>\n",
       "      <td>40.000000</td>\n",
       "      <td>2.0</td>\n",
       "      <td>1.000000</td>\n",
       "      <td>61.0</td>\n",
       "    </tr>\n",
       "    <tr>\n",
       "      <th>Willie Mitchell</th>\n",
       "      <th>2014</th>\n",
       "      <td>0.0</td>\n",
       "      <td>39.000000</td>\n",
       "      <td>1.0</td>\n",
       "      <td>1.000000</td>\n",
       "      <td>47.0</td>\n",
       "    </tr>\n",
       "    <tr>\n",
       "      <th>Willow</th>\n",
       "      <th>2010</th>\n",
       "      <td>0.0</td>\n",
       "      <td>3.000000</td>\n",
       "      <td>1.0</td>\n",
       "      <td>1.000000</td>\n",
       "      <td>16.0</td>\n",
       "    </tr>\n",
       "    <tr>\n",
       "      <th rowspan=\"2\" valign=\"top\">Wilson Pickett</th>\n",
       "      <th>1966</th>\n",
       "      <td>0.0</td>\n",
       "      <td>42.000000</td>\n",
       "      <td>3.0</td>\n",
       "      <td>1.000000</td>\n",
       "      <td>1.0</td>\n",
       "    </tr>\n",
       "    <tr>\n",
       "      <th>2017</th>\n",
       "      <td>0.0</td>\n",
       "      <td>35.500000</td>\n",
       "      <td>3.0</td>\n",
       "      <td>1.000000</td>\n",
       "      <td>142.0</td>\n",
       "    </tr>\n",
       "    <tr>\n",
       "      <th rowspan=\"4\" valign=\"top\">Wolfgang Amadeus Mozart</th>\n",
       "      <th>1995</th>\n",
       "      <td>0.0</td>\n",
       "      <td>68.000000</td>\n",
       "      <td>4.0</td>\n",
       "      <td>1.000000</td>\n",
       "      <td>19.0</td>\n",
       "    </tr>\n",
       "    <tr>\n",
       "      <th>2004</th>\n",
       "      <td>0.0</td>\n",
       "      <td>64.000000</td>\n",
       "      <td>4.0</td>\n",
       "      <td>1.000000</td>\n",
       "      <td>14.0</td>\n",
       "    </tr>\n",
       "    <tr>\n",
       "      <th>2006</th>\n",
       "      <td>0.0</td>\n",
       "      <td>62.000000</td>\n",
       "      <td>4.0</td>\n",
       "      <td>1.000000</td>\n",
       "      <td>18.0</td>\n",
       "    </tr>\n",
       "    <tr>\n",
       "      <th>2011</th>\n",
       "      <td>0.0</td>\n",
       "      <td>48.000000</td>\n",
       "      <td>4.0</td>\n",
       "      <td>1.000000</td>\n",
       "      <td>36.0</td>\n",
       "    </tr>\n",
       "    <tr>\n",
       "      <th>Wynona Carr</th>\n",
       "      <th>1993</th>\n",
       "      <td>0.0</td>\n",
       "      <td>42.000000</td>\n",
       "      <td>1.0</td>\n",
       "      <td>1.000000</td>\n",
       "      <td>16.0</td>\n",
       "    </tr>\n",
       "    <tr>\n",
       "      <th>Wynonie Harris</th>\n",
       "      <th>2014</th>\n",
       "      <td>0.0</td>\n",
       "      <td>39.000000</td>\n",
       "      <td>1.0</td>\n",
       "      <td>1.000000</td>\n",
       "      <td>47.0</td>\n",
       "    </tr>\n",
       "    <tr>\n",
       "      <th>XXXTENTACION</th>\n",
       "      <th>2018</th>\n",
       "      <td>1.0</td>\n",
       "      <td>89.000000</td>\n",
       "      <td>2.0</td>\n",
       "      <td>2.000000</td>\n",
       "      <td>118.0</td>\n",
       "    </tr>\n",
       "    <tr>\n",
       "      <th rowspan=\"6\" valign=\"top\">Yeah Yeah Yeahs</th>\n",
       "      <th>2002</th>\n",
       "      <td>0.0</td>\n",
       "      <td>30.000000</td>\n",
       "      <td>11.0</td>\n",
       "      <td>2.000000</td>\n",
       "      <td>16.0</td>\n",
       "    </tr>\n",
       "    <tr>\n",
       "      <th>2003</th>\n",
       "      <td>0.0</td>\n",
       "      <td>43.500000</td>\n",
       "      <td>11.0</td>\n",
       "      <td>2.000000</td>\n",
       "      <td>16.0</td>\n",
       "    </tr>\n",
       "    <tr>\n",
       "      <th>2004</th>\n",
       "      <td>0.0</td>\n",
       "      <td>12.000000</td>\n",
       "      <td>11.0</td>\n",
       "      <td>1.000000</td>\n",
       "      <td>14.0</td>\n",
       "    </tr>\n",
       "    <tr>\n",
       "      <th>2006</th>\n",
       "      <td>0.0</td>\n",
       "      <td>42.000000</td>\n",
       "      <td>11.0</td>\n",
       "      <td>2.000000</td>\n",
       "      <td>18.0</td>\n",
       "    </tr>\n",
       "    <tr>\n",
       "      <th>2009</th>\n",
       "      <td>0.0</td>\n",
       "      <td>47.000000</td>\n",
       "      <td>11.0</td>\n",
       "      <td>1.666667</td>\n",
       "      <td>26.0</td>\n",
       "    </tr>\n",
       "    <tr>\n",
       "      <th>2017</th>\n",
       "      <td>0.0</td>\n",
       "      <td>30.000000</td>\n",
       "      <td>11.0</td>\n",
       "      <td>1.000000</td>\n",
       "      <td>142.0</td>\n",
       "    </tr>\n",
       "    <tr>\n",
       "      <th>Zebra Katz</th>\n",
       "      <th>2016</th>\n",
       "      <td>0.0</td>\n",
       "      <td>31.000000</td>\n",
       "      <td>2.0</td>\n",
       "      <td>2.000000</td>\n",
       "      <td>56.0</td>\n",
       "    </tr>\n",
       "    <tr>\n",
       "      <th>alt-J</th>\n",
       "      <th>2017</th>\n",
       "      <td>0.0</td>\n",
       "      <td>58.000000</td>\n",
       "      <td>2.0</td>\n",
       "      <td>2.000000</td>\n",
       "      <td>142.0</td>\n",
       "    </tr>\n",
       "    <tr>\n",
       "      <th>cupcakKe</th>\n",
       "      <th>2018</th>\n",
       "      <td>0.0</td>\n",
       "      <td>36.000000</td>\n",
       "      <td>7.0</td>\n",
       "      <td>3.571429</td>\n",
       "      <td>118.0</td>\n",
       "    </tr>\n",
       "    <tr>\n",
       "      <th rowspan=\"2\" valign=\"top\">the bird and the bee</th>\n",
       "      <th>2008</th>\n",
       "      <td>0.0</td>\n",
       "      <td>43.000000</td>\n",
       "      <td>4.0</td>\n",
       "      <td>2.000000</td>\n",
       "      <td>21.0</td>\n",
       "    </tr>\n",
       "    <tr>\n",
       "      <th>2010</th>\n",
       "      <td>0.0</td>\n",
       "      <td>42.000000</td>\n",
       "      <td>4.0</td>\n",
       "      <td>2.000000</td>\n",
       "      <td>16.0</td>\n",
       "    </tr>\n",
       "    <tr>\n",
       "      <th>together PANGEA</th>\n",
       "      <th>2018</th>\n",
       "      <td>0.0</td>\n",
       "      <td>48.000000</td>\n",
       "      <td>2.0</td>\n",
       "      <td>2.000000</td>\n",
       "      <td>118.0</td>\n",
       "    </tr>\n",
       "    <tr>\n",
       "      <th rowspan=\"3\" valign=\"top\">Édith Piaf</th>\n",
       "      <th>1987</th>\n",
       "      <td>0.0</td>\n",
       "      <td>49.333333</td>\n",
       "      <td>8.0</td>\n",
       "      <td>1.000000</td>\n",
       "      <td>7.0</td>\n",
       "    </tr>\n",
       "    <tr>\n",
       "      <th>2013</th>\n",
       "      <td>0.0</td>\n",
       "      <td>37.000000</td>\n",
       "      <td>8.0</td>\n",
       "      <td>1.000000</td>\n",
       "      <td>24.0</td>\n",
       "    </tr>\n",
       "    <tr>\n",
       "      <th>2017</th>\n",
       "      <td>0.0</td>\n",
       "      <td>36.500000</td>\n",
       "      <td>8.0</td>\n",
       "      <td>1.000000</td>\n",
       "      <td>142.0</td>\n",
       "    </tr>\n",
       "  </tbody>\n",
       "</table>\n",
       "<p>559 rows × 5 columns</p>\n",
       "</div>"
      ],
      "text/plain": [
       "                               Explicit  Tpopularity  artsongcnt  songfreq  \\\n",
       "Artist                  Rdate                                                \n",
       "!!!                     2017        0.0    38.000000         2.0  2.000000   \n",
       "2Pac                    2014        1.0    43.000000         1.0  1.000000   \n",
       "Aaron Copland           1960        0.0    50.000000         1.0  1.000000   \n",
       "Adam Joseph             2017        0.0    40.000000         1.0  1.000000   \n",
       "Adore Delano            2014        1.0    49.000000         1.0  1.000000   \n",
       "Adrianne Lenker         2018        0.0    58.000000         1.0  1.000000   \n",
       "Agnes Obel              2013        0.0    53.000000         1.0  1.000000   \n",
       "Ah-Mer-Ah-Su            2017        0.0     5.000000         2.0  2.000000   \n",
       "Aja                     2017        0.5    48.000000         5.0  1.000000   \n",
       "                        2018        1.0    43.000000         5.0  1.000000   \n",
       "Al B. Sure!             1988        0.0    53.000000         1.0  1.000000   \n",
       "Alabama Shakes          2012        0.0    52.000000         4.0  2.000000   \n",
       "                        2015        0.0    43.333333         4.0  1.000000   \n",
       "Alaska Thunderfuck      2015        0.0    46.500000         4.0  1.000000   \n",
       "                        2016        1.0    48.000000         4.0  1.000000   \n",
       "Alban Berg              2012        0.0    45.000000         1.0  1.000000   \n",
       "Alice Cooper            1972        0.0    66.000000         1.0  1.000000   \n",
       "Allen Toussaint         1975        0.0    22.000000         1.0  1.000000   \n",
       "Amadou & Mariam         2008        0.0    30.000000         2.0  2.000000   \n",
       "Amara La Negra          2018        0.0    46.000000         1.0  1.000000   \n",
       "Angel Haze              2012        1.0    52.000000         4.0  4.000000   \n",
       "Angel Olsen             2016        0.0    50.000000         1.0  1.000000   \n",
       "Anita O'Day             1941        0.0    44.000000         4.0  1.000000   \n",
       "                        1955        0.0    48.000000         4.0  1.000000   \n",
       "                        1961        0.0    45.000000         4.0  1.000000   \n",
       "                        2015        0.0    57.000000         4.0  1.000000   \n",
       "Antonio Vivaldi         2014        0.0    63.000000         2.0  1.000000   \n",
       "                        2018        0.0    42.000000         2.0  1.000000   \n",
       "Aquaria                 2018        0.0    38.000000         1.0  1.000000   \n",
       "Aretha Franklin         1967        0.0    73.000000         1.0  1.000000   \n",
       "...                                 ...          ...         ...       ...   \n",
       "Whitney Houston         2006        0.0    55.000000         2.0  1.000000   \n",
       "Wilbert Harrison        2007        0.0     6.000000         2.0  2.000000   \n",
       "Willam                  2013        0.0    40.000000         2.0  1.000000   \n",
       "                        2015        0.0    40.000000         2.0  1.000000   \n",
       "Willie Mitchell         2014        0.0    39.000000         1.0  1.000000   \n",
       "Willow                  2010        0.0     3.000000         1.0  1.000000   \n",
       "Wilson Pickett          1966        0.0    42.000000         3.0  1.000000   \n",
       "                        2017        0.0    35.500000         3.0  1.000000   \n",
       "Wolfgang Amadeus Mozart 1995        0.0    68.000000         4.0  1.000000   \n",
       "                        2004        0.0    64.000000         4.0  1.000000   \n",
       "                        2006        0.0    62.000000         4.0  1.000000   \n",
       "                        2011        0.0    48.000000         4.0  1.000000   \n",
       "Wynona Carr             1993        0.0    42.000000         1.0  1.000000   \n",
       "Wynonie Harris          2014        0.0    39.000000         1.0  1.000000   \n",
       "XXXTENTACION            2018        1.0    89.000000         2.0  2.000000   \n",
       "Yeah Yeah Yeahs         2002        0.0    30.000000        11.0  2.000000   \n",
       "                        2003        0.0    43.500000        11.0  2.000000   \n",
       "                        2004        0.0    12.000000        11.0  1.000000   \n",
       "                        2006        0.0    42.000000        11.0  2.000000   \n",
       "                        2009        0.0    47.000000        11.0  1.666667   \n",
       "                        2017        0.0    30.000000        11.0  1.000000   \n",
       "Zebra Katz              2016        0.0    31.000000         2.0  2.000000   \n",
       "alt-J                   2017        0.0    58.000000         2.0  2.000000   \n",
       "cupcakKe                2018        0.0    36.000000         7.0  3.571429   \n",
       "the bird and the bee    2008        0.0    43.000000         4.0  2.000000   \n",
       "                        2010        0.0    42.000000         4.0  2.000000   \n",
       "together PANGEA         2018        0.0    48.000000         2.0  2.000000   \n",
       "Édith Piaf              1987        0.0    49.333333         8.0  1.000000   \n",
       "                        2013        0.0    37.000000         8.0  1.000000   \n",
       "                        2017        0.0    36.500000         8.0  1.000000   \n",
       "\n",
       "                               yrsongcnt  \n",
       "Artist                  Rdate             \n",
       "!!!                     2017       142.0  \n",
       "2Pac                    2014        47.0  \n",
       "Aaron Copland           1960         4.0  \n",
       "Adam Joseph             2017       142.0  \n",
       "Adore Delano            2014        47.0  \n",
       "Adrianne Lenker         2018       118.0  \n",
       "Agnes Obel              2013        24.0  \n",
       "Ah-Mer-Ah-Su            2017       142.0  \n",
       "Aja                     2017       142.0  \n",
       "                        2018       118.0  \n",
       "Al B. Sure!             1988         8.0  \n",
       "Alabama Shakes          2012        25.0  \n",
       "                        2015        61.0  \n",
       "Alaska Thunderfuck      2015        61.0  \n",
       "                        2016        56.0  \n",
       "Alban Berg              2012        25.0  \n",
       "Alice Cooper            1972         3.0  \n",
       "Allen Toussaint         1975         2.0  \n",
       "Amadou & Mariam         2008        21.0  \n",
       "Amara La Negra          2018       118.0  \n",
       "Angel Haze              2012        25.0  \n",
       "Angel Olsen             2016        56.0  \n",
       "Anita O'Day             1941         1.0  \n",
       "                        1955         1.0  \n",
       "                        1961         1.0  \n",
       "                        2015        61.0  \n",
       "Antonio Vivaldi         2014        47.0  \n",
       "                        2018       118.0  \n",
       "Aquaria                 2018       118.0  \n",
       "Aretha Franklin         1967         3.0  \n",
       "...                                  ...  \n",
       "Whitney Houston         2006        18.0  \n",
       "Wilbert Harrison        2007        41.0  \n",
       "Willam                  2013        24.0  \n",
       "                        2015        61.0  \n",
       "Willie Mitchell         2014        47.0  \n",
       "Willow                  2010        16.0  \n",
       "Wilson Pickett          1966         1.0  \n",
       "                        2017       142.0  \n",
       "Wolfgang Amadeus Mozart 1995        19.0  \n",
       "                        2004        14.0  \n",
       "                        2006        18.0  \n",
       "                        2011        36.0  \n",
       "Wynona Carr             1993        16.0  \n",
       "Wynonie Harris          2014        47.0  \n",
       "XXXTENTACION            2018       118.0  \n",
       "Yeah Yeah Yeahs         2002        16.0  \n",
       "                        2003        16.0  \n",
       "                        2004        14.0  \n",
       "                        2006        18.0  \n",
       "                        2009        26.0  \n",
       "                        2017       142.0  \n",
       "Zebra Katz              2016        56.0  \n",
       "alt-J                   2017       142.0  \n",
       "cupcakKe                2018       118.0  \n",
       "the bird and the bee    2008        21.0  \n",
       "                        2010        16.0  \n",
       "together PANGEA         2018       118.0  \n",
       "Édith Piaf              1987         7.0  \n",
       "                        2013        24.0  \n",
       "                        2017       142.0  \n",
       "\n",
       "[559 rows x 5 columns]"
      ]
     },
     "execution_count": 43,
     "metadata": {},
     "output_type": "execute_result"
    }
   ],
   "source": [
    "art_statsy = statipy_yr.groupby(['Artist', 'Rdate']).mean()\n",
    "art_statsy"
   ]
  },
  {
   "cell_type": "markdown",
   "metadata": {},
   "source": [
    "# 3. SONGFREQ (#of times song is featured in playlist)\n",
    "*****************************"
   ]
  },
  {
   "cell_type": "markdown",
   "metadata": {},
   "source": [
    "## GROUP A\n",
    "### Divide by song frequency\n",
    "#### Song Freq = NO_SOLO + SOLO_DF"
   ]
  },
  {
   "cell_type": "code",
   "execution_count": null,
   "metadata": {},
   "outputs": [],
   "source": [
    "#no_solo = statipycounts_df[statipycounts_df['songfreq']>=2]\n",
    "#no_solo.info()"
   ]
  },
  {
   "cell_type": "code",
   "execution_count": null,
   "metadata": {},
   "outputs": [],
   "source": [
    "#solo_df = statipycounts_df[statipycounts_df['songfreq']<=1]\n",
    "#solo_df.info()"
   ]
  },
  {
   "cell_type": "markdown",
   "metadata": {},
   "source": [
    "## GROUP B\n",
    "### song frequency X artist tracks (artsongcnt)\n",
    "#### artist with most non repeat tracks || artist_mostsolo"
   ]
  },
  {
   "cell_type": "code",
   "execution_count": null,
   "metadata": {},
   "outputs": [],
   "source": [
    "#artist_mostsolo = solo_df[solo_df['artsongcnt']>=5]\n",
    "#artist_mostsolo"
   ]
  },
  {
   "cell_type": "markdown",
   "metadata": {},
   "source": [
    "###### plot : artist_mostsolo / artsongcnt XX popularity / dates (year)"
   ]
  },
  {
   "cell_type": "code",
   "execution_count": null,
   "metadata": {},
   "outputs": [],
   "source": [
    "#artist_mostsolo.groupby(['Rdate'])['artsongcnt'].mean().plot()\n",
    "#artist_mostsolo.groupby(['Rdate'])['Tpopularity'].mean().plot()"
   ]
  },
  {
   "cell_type": "markdown",
   "metadata": {},
   "source": [
    "## GROUP Bb\n",
    "### artists most solo / explicit tracks\n",
    "#### pg13artists_ms || artsongcnt_ms"
   ]
  },
  {
   "cell_type": "code",
   "execution_count": null,
   "metadata": {},
   "outputs": [],
   "source": [
    "#pg13artists_ms = artist_mostsolo[artist_mostsolo['Explicit']==1.0]\n",
    "#xartists_ms = artist_mostsolo[artist_mostsolo['Explicit']==0.0]"
   ]
  },
  {
   "cell_type": "markdown",
   "metadata": {},
   "source": [
    "###### plot :: Tpopularity XX artsongcnt XX Explicit ?? (level of 0 - 2)"
   ]
  },
  {
   "cell_type": "code",
   "execution_count": null,
   "metadata": {},
   "outputs": [],
   "source": [
    "#pg13artists_ms[['Tpopularity', 'Explicit', 'artsongcnt']].plot.line()\n",
    "#xartists_ms[['Tpopularity', 'Explicit', 'artsongcnt']].plot.line()"
   ]
  },
  {
   "cell_type": "markdown",
   "metadata": {},
   "source": [
    "## GROUP C\n",
    "### SOLO_DF >43 POP only  |  popsolo\n",
    "###### plot per release date - artists track count // avg track popularity"
   ]
  },
  {
   "cell_type": "code",
   "execution_count": null,
   "metadata": {},
   "outputs": [],
   "source": [
    "#popart_ms = artist_mostsolo[artist_mostsolo['Tpopularity']<=43.17]\n",
    "#popart_ms.groupby('Rdate')['artsongcnt'].mean().plot(stacked=True)\n",
    "#popart_ms.groupby('Rdate')['Tpopularity'].mean().plot(grid=True)"
   ]
  },
  {
   "cell_type": "markdown",
   "metadata": {},
   "source": [
    "##### per release date - artists track count // avg track popularity\n",
    "###### plot (unfilled stack step)"
   ]
  },
  {
   "cell_type": "code",
   "execution_count": null,
   "metadata": {},
   "outputs": [],
   "source": [
    "#ibins = 30\n",
    "#x = popart_ms.Tpopularity\n",
    "#x1 = popart_ms.artsongcnt\n",
    "#colors = ['blue', 'orange', 'green']\n",
    "#plt.hist(x1, ibins, histtype='step', stacked=True, fill=False, label=colors)\n",
    "#plt.hist(x, ibins, histtype='step', stacked=True, fill=False, label=colors)\n",
    "#plt.legend(loc=\"upper right\")\n",
    "#plt.title('Stack Step (unfilled)')\n",
    "#plt.show()"
   ]
  },
  {
   "cell_type": "markdown",
   "metadata": {},
   "source": [
    "## GROUP Cc\n",
    "### Most popular Artist w/ most solos (non repeat tracks)\n",
    "##### high pop && freq  ----  highrank_artistsolo"
   ]
  },
  {
   "cell_type": "code",
   "execution_count": null,
   "metadata": {},
   "outputs": [],
   "source": [
    "#popular_solo = solo_df[solo_df['Tpopularity']>=43]\n",
    "#freq_popularsolo = popular_solo[popular_solo['artsongcnt']>=8]\n",
    "#highrank_artistsolo = freq_popularsolo.groupby(['Artist'])[['Artist', 'Tpopularity',\n",
    "#'artsongcnt']].mean()"
   ]
  },
  {
   "cell_type": "code",
   "execution_count": null,
   "metadata": {},
   "outputs": [],
   "source": [
    "#plot\n",
    "#highrank_artistsolo.plot.bar()"
   ]
  },
  {
   "cell_type": "markdown",
   "metadata": {},
   "source": [
    "## GROUP Ccc\n",
    "### ARTIST : HIGH POP, HIGH SONG REPEAT\n",
    "#### high pop && freq   ----   mostfreq_pop"
   ]
  },
  {
   "cell_type": "code",
   "execution_count": null,
   "metadata": {},
   "outputs": [],
   "source": [
    "#mostfreq_pop = no_solo[no_solo['songfreq']>3]\n",
    "#mostfreq_pop.groupby('Artist').mean().plot.bar()"
   ]
  },
  {
   "cell_type": "markdown",
   "metadata": {},
   "source": [
    "## GROUP D\n",
    "##### ALL TRACKS POP x EXPLICIT / YEAR dates\n",
    "##### RECALL STATIPY_DF ( + track columns)¶\n",
    "scatter - popularity / explicit count *** s=statipy_df['artsongcnt']*5*\n",
    "\n",
    "plot"
   ]
  },
  {
   "cell_type": "code",
   "execution_count": 50,
   "metadata": {},
   "outputs": [
    {
     "data": {
      "image/png": "[encoded data removed]",
      "text/plain": [
       "<Figure size 1872x864 with 1 Axes>"
      ]
     },
     "metadata": {
      "needs_background": "light"
     },
     "output_type": "display_data"
    }
   ],
   "source": [
    "x = statipy_yr.groupby(['Rdate'])['Tpopularity'].mean()\n",
    "y = statipy_yr.groupby(['Rdate'])[['Explicit']].count()\n",
    "\n",
    "fig, ax = plt.subplots(figsize=(26, 12))\n",
    "ax.scatter(x=x, y=y, s=statipy_yr['yrsongcnt']*15, alpha=0.50);\n",
    "\n",
    "ax.set_xlabel('Avg Album Popularity')\n",
    "ax.set_ylabel('Explicit Tracks per Album')\n",
    "\n",
    "plt.show()"
   ]
  },
  {
   "cell_type": "markdown",
   "metadata": {},
   "source": [
    "# 4. POPULARITY\n",
    "*****************************"
   ]
  },
  {
   "cell_type": "markdown",
   "metadata": {},
   "source": [
    "## GROUP A \n",
    "#### statipy_yr high pop >43  = popular_tracks\n",
    "##### scatter plot s = * track count"
   ]
  },
  {
   "cell_type": "code",
   "execution_count": 52,
   "metadata": {},
   "outputs": [],
   "source": [
    "popular_tracks= statipy_yr[statipy_yr['Tpopularity']>=43.71]"
   ]
  },
  {
   "cell_type": "code",
   "execution_count": 53,
   "metadata": {},
   "outputs": [
    {
     "data": {
      "image/png": "[encoded data removed]",
      "text/plain": [
       "<Figure size 1872x864 with 1 Axes>"
      ]
     },
     "metadata": {
      "needs_background": "light"
     },
     "output_type": "display_data"
    }
   ],
   "source": [
    "#### scatterplot\n",
    "x = popular_tracks.groupby(['Album'])['Tpopularity'].mean()\n",
    "y = popular_tracks.groupby(['Album'])['Explicit'].count()\n",
    "s = popular_tracks.groupby(['Album'])['Track'].count()\n",
    "\n",
    "fig, ax = plt.subplots(figsize=(26, 12))\n",
    "ax.scatter(x, y, s*100, alpha=0.10);\n",
    "ax.set_xlabel('Avg Album Popularity')\n",
    "ax.set_ylabel('Explicit Tracks per Album')\n",
    "\n",
    "plt.show()"
   ]
  },
  {
   "cell_type": "code",
   "execution_count": null,
   "metadata": {},
   "outputs": [],
   "source": [
    "## GROUP B\n",
    "### MOST POP ARTIST BY YEAR GROUP\n",
    "#### bar plot - most pop artists with most freq tracks XX explicit & song freq"
   ]
  },
  {
   "cell_type": "code",
   "execution_count": 54,
   "metadata": {},
   "outputs": [
    {
     "data": {
      "text/html": [
       "<div>\n",
       "<style scoped>\n",
       "    .dataframe tbody tr th:only-of-type {\n",
       "        vertical-align: middle;\n",
       "    }\n",
       "\n",
       "    .dataframe tbody tr th {\n",
       "        vertical-align: top;\n",
       "    }\n",
       "\n",
       "    .dataframe thead th {\n",
       "        text-align: right;\n",
       "    }\n",
       "</style>\n",
       "<table border=\"1\" class=\"dataframe\">\n",
       "  <thead>\n",
       "    <tr style=\"text-align: right;\">\n",
       "      <th></th>\n",
       "      <th>Track</th>\n",
       "      <th>Explicit</th>\n",
       "      <th>Tpopularity</th>\n",
       "      <th>Artist</th>\n",
       "      <th>Album</th>\n",
       "      <th>Rdate</th>\n",
       "      <th>artsongcnt</th>\n",
       "      <th>songfreq</th>\n",
       "      <th>yrsongcnt</th>\n",
       "    </tr>\n",
       "  </thead>\n",
       "  <tbody>\n",
       "    <tr>\n",
       "      <th>0</th>\n",
       "      <td>Paradise</td>\n",
       "      <td>False</td>\n",
       "      <td>49</td>\n",
       "      <td>Voyage</td>\n",
       "      <td>Paradise</td>\n",
       "      <td>2018</td>\n",
       "      <td>1</td>\n",
       "      <td>1</td>\n",
       "      <td>118</td>\n",
       "    </tr>\n",
       "    <tr>\n",
       "      <th>1</th>\n",
       "      <td>Tech Noir</td>\n",
       "      <td>False</td>\n",
       "      <td>56</td>\n",
       "      <td>Gunship</td>\n",
       "      <td>GUNSHIP</td>\n",
       "      <td>2015</td>\n",
       "      <td>1</td>\n",
       "      <td>1</td>\n",
       "      <td>61</td>\n",
       "    </tr>\n",
       "    <tr>\n",
       "      <th>6</th>\n",
       "      <td>Sissy That Walk</td>\n",
       "      <td>False</td>\n",
       "      <td>67</td>\n",
       "      <td>RuPaul</td>\n",
       "      <td>Born Naked</td>\n",
       "      <td>2014</td>\n",
       "      <td>88</td>\n",
       "      <td>2</td>\n",
       "      <td>47</td>\n",
       "    </tr>\n",
       "    <tr>\n",
       "      <th>7</th>\n",
       "      <td>Level Ya Pussy Up</td>\n",
       "      <td>False</td>\n",
       "      <td>49</td>\n",
       "      <td>Aja</td>\n",
       "      <td>Level Ya Pussy Up</td>\n",
       "      <td>2017</td>\n",
       "      <td>5</td>\n",
       "      <td>1</td>\n",
       "      <td>142</td>\n",
       "    </tr>\n",
       "    <tr>\n",
       "      <th>8</th>\n",
       "      <td>Pose</td>\n",
       "      <td>False</td>\n",
       "      <td>55</td>\n",
       "      <td>Naomi Smalls</td>\n",
       "      <td>Pose</td>\n",
       "      <td>2018</td>\n",
       "      <td>1</td>\n",
       "      <td>1</td>\n",
       "      <td>118</td>\n",
       "    </tr>\n",
       "  </tbody>\n",
       "</table>\n",
       "</div>"
      ],
      "text/plain": [
       "               Track  Explicit  Tpopularity        Artist              Album  \\\n",
       "0           Paradise     False           49        Voyage           Paradise   \n",
       "1          Tech Noir     False           56       Gunship            GUNSHIP   \n",
       "6    Sissy That Walk     False           67        RuPaul         Born Naked   \n",
       "7  Level Ya Pussy Up     False           49           Aja  Level Ya Pussy Up   \n",
       "8               Pose     False           55  Naomi Smalls               Pose   \n",
       "\n",
       "   Rdate  artsongcnt  songfreq  yrsongcnt  \n",
       "0   2018           1         1        118  \n",
       "1   2015           1         1         61  \n",
       "6   2014          88         2         47  \n",
       "7   2017           5         1        142  \n",
       "8   2018           1         1        118  "
      ]
     },
     "execution_count": 54,
     "metadata": {},
     "output_type": "execute_result"
    }
   ],
   "source": [
    "most_popular_y = statipy_yr[statipy_yr['Tpopularity']>=43]\n",
    "most_popular_y.head()"
   ]
  },
  {
   "cell_type": "code",
   "execution_count": 55,
   "metadata": {},
   "outputs": [
    {
     "data": {
      "text/plain": [
       "10.678638941398866"
      ]
     },
     "execution_count": 55,
     "metadata": {},
     "output_type": "execute_result"
    }
   ],
   "source": [
    "most_popular_y['artsongcnt'].mean()"
   ]
  },
  {
   "cell_type": "code",
   "execution_count": 58,
   "metadata": {},
   "outputs": [
    {
     "data": {
      "text/plain": [
       "<matplotlib.axes._subplots.AxesSubplot at 0x124e442e8>"
      ]
     },
     "execution_count": 58,
     "metadata": {},
     "output_type": "execute_result"
    },
    {
     "data": {
      "image/png": "[encoded data removed]",
      "text/plain": [
       "<Figure size 432x288 with 1 Axes>"
      ]
     },
     "metadata": {
      "needs_background": "light"
     },
     "output_type": "display_data"
    }
   ],
   "source": [
    "# plot\n",
    "popart_mostfreq = most_popular_y[most_popular_y['artsongcnt']>=10.67]\n",
    "popart_mostfreq.groupby('Artist')[['Tpopularity', 'artsongcnt', 'Explicit', 'songfreq']].mean().plot.bar()"
   ]
  },
  {
   "cell_type": "markdown",
   "metadata": {},
   "source": [
    "# 5. EXPLICIT CONTENT\n",
    "*****************************"
   ]
  },
  {
   "cell_type": "markdown",
   "metadata": {},
   "source": [
    "## GROUP A\n",
    "#### EXPLICIT x >5 SONG REPEATS"
   ]
  },
  {
   "cell_type": "code",
   "execution_count": 59,
   "metadata": {},
   "outputs": [
    {
     "data": {
      "text/html": [
       "<div>\n",
       "<style scoped>\n",
       "    .dataframe tbody tr th:only-of-type {\n",
       "        vertical-align: middle;\n",
       "    }\n",
       "\n",
       "    .dataframe tbody tr th {\n",
       "        vertical-align: top;\n",
       "    }\n",
       "\n",
       "    .dataframe thead th {\n",
       "        text-align: right;\n",
       "    }\n",
       "</style>\n",
       "<table border=\"1\" class=\"dataframe\">\n",
       "  <thead>\n",
       "    <tr style=\"text-align: right;\">\n",
       "      <th></th>\n",
       "      <th>Track</th>\n",
       "      <th>Explicit</th>\n",
       "      <th>Tpopularity</th>\n",
       "      <th>Artist</th>\n",
       "      <th>Album</th>\n",
       "      <th>Rdate</th>\n",
       "      <th>artsongcnt</th>\n",
       "      <th>songfreq</th>\n",
       "      <th>yrsongcnt</th>\n",
       "    </tr>\n",
       "  </thead>\n",
       "  <tbody>\n",
       "    <tr>\n",
       "      <th>487</th>\n",
       "      <td>Money</td>\n",
       "      <td>True</td>\n",
       "      <td>46</td>\n",
       "      <td>Leikeli47</td>\n",
       "      <td>Money</td>\n",
       "      <td>2016</td>\n",
       "      <td>9</td>\n",
       "      <td>5</td>\n",
       "      <td>56</td>\n",
       "    </tr>\n",
       "    <tr>\n",
       "      <th>491</th>\n",
       "      <td>Sex With Me</td>\n",
       "      <td>True</td>\n",
       "      <td>65</td>\n",
       "      <td>Rihanna</td>\n",
       "      <td>ANTI (Deluxe)</td>\n",
       "      <td>2016</td>\n",
       "      <td>16</td>\n",
       "      <td>5</td>\n",
       "      <td>56</td>\n",
       "    </tr>\n",
       "    <tr>\n",
       "      <th>499</th>\n",
       "      <td>Decline Him</td>\n",
       "      <td>True</td>\n",
       "      <td>41</td>\n",
       "      <td>Quay Dash</td>\n",
       "      <td>Transphobic</td>\n",
       "      <td>2017</td>\n",
       "      <td>6</td>\n",
       "      <td>6</td>\n",
       "      <td>142</td>\n",
       "    </tr>\n",
       "    <tr>\n",
       "      <th>536</th>\n",
       "      <td>Money</td>\n",
       "      <td>True</td>\n",
       "      <td>58</td>\n",
       "      <td>Leikeli47</td>\n",
       "      <td>Wash &amp; Set</td>\n",
       "      <td>2017</td>\n",
       "      <td>9</td>\n",
       "      <td>5</td>\n",
       "      <td>142</td>\n",
       "    </tr>\n",
       "    <tr>\n",
       "      <th>564</th>\n",
       "      <td>Decline Him</td>\n",
       "      <td>True</td>\n",
       "      <td>41</td>\n",
       "      <td>Quay Dash</td>\n",
       "      <td>Transphobic</td>\n",
       "      <td>2017</td>\n",
       "      <td>6</td>\n",
       "      <td>6</td>\n",
       "      <td>142</td>\n",
       "    </tr>\n",
       "    <tr>\n",
       "      <th>674</th>\n",
       "      <td>Sex With Me</td>\n",
       "      <td>True</td>\n",
       "      <td>65</td>\n",
       "      <td>Rihanna</td>\n",
       "      <td>ANTI (Deluxe)</td>\n",
       "      <td>2016</td>\n",
       "      <td>16</td>\n",
       "      <td>5</td>\n",
       "      <td>56</td>\n",
       "    </tr>\n",
       "    <tr>\n",
       "      <th>690</th>\n",
       "      <td>Decline Him</td>\n",
       "      <td>True</td>\n",
       "      <td>41</td>\n",
       "      <td>Quay Dash</td>\n",
       "      <td>Transphobic</td>\n",
       "      <td>2017</td>\n",
       "      <td>6</td>\n",
       "      <td>6</td>\n",
       "      <td>142</td>\n",
       "    </tr>\n",
       "    <tr>\n",
       "      <th>702</th>\n",
       "      <td>Money</td>\n",
       "      <td>True</td>\n",
       "      <td>46</td>\n",
       "      <td>Leikeli47</td>\n",
       "      <td>Money</td>\n",
       "      <td>2016</td>\n",
       "      <td>9</td>\n",
       "      <td>5</td>\n",
       "      <td>56</td>\n",
       "    </tr>\n",
       "    <tr>\n",
       "      <th>732</th>\n",
       "      <td>Sex With Me</td>\n",
       "      <td>True</td>\n",
       "      <td>65</td>\n",
       "      <td>Rihanna</td>\n",
       "      <td>ANTI (Deluxe)</td>\n",
       "      <td>2016</td>\n",
       "      <td>16</td>\n",
       "      <td>5</td>\n",
       "      <td>56</td>\n",
       "    </tr>\n",
       "    <tr>\n",
       "      <th>816</th>\n",
       "      <td>Money</td>\n",
       "      <td>True</td>\n",
       "      <td>46</td>\n",
       "      <td>Leikeli47</td>\n",
       "      <td>Money</td>\n",
       "      <td>2016</td>\n",
       "      <td>9</td>\n",
       "      <td>5</td>\n",
       "      <td>56</td>\n",
       "    </tr>\n",
       "    <tr>\n",
       "      <th>837</th>\n",
       "      <td>Decline Him</td>\n",
       "      <td>True</td>\n",
       "      <td>41</td>\n",
       "      <td>Quay Dash</td>\n",
       "      <td>Transphobic</td>\n",
       "      <td>2017</td>\n",
       "      <td>6</td>\n",
       "      <td>6</td>\n",
       "      <td>142</td>\n",
       "    </tr>\n",
       "    <tr>\n",
       "      <th>870</th>\n",
       "      <td>Decline Him</td>\n",
       "      <td>True</td>\n",
       "      <td>41</td>\n",
       "      <td>Quay Dash</td>\n",
       "      <td>Transphobic</td>\n",
       "      <td>2017</td>\n",
       "      <td>6</td>\n",
       "      <td>6</td>\n",
       "      <td>142</td>\n",
       "    </tr>\n",
       "    <tr>\n",
       "      <th>901</th>\n",
       "      <td>Sex With Me</td>\n",
       "      <td>True</td>\n",
       "      <td>65</td>\n",
       "      <td>Rihanna</td>\n",
       "      <td>ANTI (Deluxe)</td>\n",
       "      <td>2016</td>\n",
       "      <td>16</td>\n",
       "      <td>5</td>\n",
       "      <td>56</td>\n",
       "    </tr>\n",
       "    <tr>\n",
       "      <th>919</th>\n",
       "      <td>Sex With Me</td>\n",
       "      <td>True</td>\n",
       "      <td>65</td>\n",
       "      <td>Rihanna</td>\n",
       "      <td>ANTI (Deluxe)</td>\n",
       "      <td>2016</td>\n",
       "      <td>16</td>\n",
       "      <td>5</td>\n",
       "      <td>56</td>\n",
       "    </tr>\n",
       "    <tr>\n",
       "      <th>925</th>\n",
       "      <td>Decline Him</td>\n",
       "      <td>True</td>\n",
       "      <td>41</td>\n",
       "      <td>Quay Dash</td>\n",
       "      <td>Transphobic</td>\n",
       "      <td>2017</td>\n",
       "      <td>6</td>\n",
       "      <td>6</td>\n",
       "      <td>142</td>\n",
       "    </tr>\n",
       "    <tr>\n",
       "      <th>946</th>\n",
       "      <td>Money</td>\n",
       "      <td>True</td>\n",
       "      <td>46</td>\n",
       "      <td>Leikeli47</td>\n",
       "      <td>Money</td>\n",
       "      <td>2016</td>\n",
       "      <td>9</td>\n",
       "      <td>5</td>\n",
       "      <td>56</td>\n",
       "    </tr>\n",
       "  </tbody>\n",
       "</table>\n",
       "</div>"
      ],
      "text/plain": [
       "           Track  Explicit  Tpopularity     Artist          Album  Rdate  \\\n",
       "487        Money      True           46  Leikeli47          Money   2016   \n",
       "491  Sex With Me      True           65    Rihanna  ANTI (Deluxe)   2016   \n",
       "499  Decline Him      True           41  Quay Dash    Transphobic   2017   \n",
       "536        Money      True           58  Leikeli47     Wash & Set   2017   \n",
       "564  Decline Him      True           41  Quay Dash    Transphobic   2017   \n",
       "674  Sex With Me      True           65    Rihanna  ANTI (Deluxe)   2016   \n",
       "690  Decline Him      True           41  Quay Dash    Transphobic   2017   \n",
       "702        Money      True           46  Leikeli47          Money   2016   \n",
       "732  Sex With Me      True           65    Rihanna  ANTI (Deluxe)   2016   \n",
       "816        Money      True           46  Leikeli47          Money   2016   \n",
       "837  Decline Him      True           41  Quay Dash    Transphobic   2017   \n",
       "870  Decline Him      True           41  Quay Dash    Transphobic   2017   \n",
       "901  Sex With Me      True           65    Rihanna  ANTI (Deluxe)   2016   \n",
       "919  Sex With Me      True           65    Rihanna  ANTI (Deluxe)   2016   \n",
       "925  Decline Him      True           41  Quay Dash    Transphobic   2017   \n",
       "946        Money      True           46  Leikeli47          Money   2016   \n",
       "\n",
       "     artsongcnt  songfreq  yrsongcnt  \n",
       "487           9         5         56  \n",
       "491          16         5         56  \n",
       "499           6         6        142  \n",
       "536           9         5        142  \n",
       "564           6         6        142  \n",
       "674          16         5         56  \n",
       "690           6         6        142  \n",
       "702           9         5         56  \n",
       "732          16         5         56  \n",
       "816           9         5         56  \n",
       "837           6         6        142  \n",
       "870           6         6        142  \n",
       "901          16         5         56  \n",
       "919          16         5         56  \n",
       "925           6         6        142  \n",
       "946           9         5         56  "
      ]
     },
     "execution_count": 59,
     "metadata": {},
     "output_type": "execute_result"
    }
   ],
   "source": [
    "explicit_tracks = statipy_yr[statipy_yr['Explicit']==True]\n",
    "freqex_tracks = explicit_tracks[explicit_tracks['songfreq']>=5]\n",
    "freqex_tracks"
   ]
  },
  {
   "cell_type": "code",
   "execution_count": null,
   "metadata": {},
   "outputs": [],
   "source": [
    "### plots artists with most repeats && explicit tracks"
   ]
  },
  {
   "cell_type": "code",
   "execution_count": 60,
   "metadata": {},
   "outputs": [
    {
     "data": {
      "text/plain": [
       "<matplotlib.axes._subplots.AxesSubplot at 0x124f2f5f8>"
      ]
     },
     "execution_count": 60,
     "metadata": {},
     "output_type": "execute_result"
    },
    {
     "data": {
      "image/png": "[encoded data removed]",
      "text/plain": [
       "<Figure size 432x288 with 1 Axes>"
      ]
     },
     "metadata": {
      "needs_background": "light"
     },
     "output_type": "display_data"
    }
   ],
   "source": [
    "artfreqex = freqex_tracks.groupby('Artist')[['Tpopularity', 'artsongcnt', 'songfreq']].mean()\n",
    "artfreqex.plot.barh(grid=True)"
   ]
  },
  {
   "cell_type": "markdown",
   "metadata": {},
   "source": [
    "## GROUP B\n",
    "#### PG13 x SONG REPEATS"
   ]
  },
  {
   "cell_type": "code",
   "execution_count": 65,
   "metadata": {},
   "outputs": [
    {
     "data": {
      "text/html": [
       "<div>\n",
       "<style scoped>\n",
       "    .dataframe tbody tr th:only-of-type {\n",
       "        vertical-align: middle;\n",
       "    }\n",
       "\n",
       "    .dataframe tbody tr th {\n",
       "        vertical-align: top;\n",
       "    }\n",
       "\n",
       "    .dataframe thead th {\n",
       "        text-align: right;\n",
       "    }\n",
       "</style>\n",
       "<table border=\"1\" class=\"dataframe\">\n",
       "  <thead>\n",
       "    <tr style=\"text-align: right;\">\n",
       "      <th></th>\n",
       "      <th>Track</th>\n",
       "      <th>Explicit</th>\n",
       "      <th>Tpopularity</th>\n",
       "      <th>Artist</th>\n",
       "      <th>Album</th>\n",
       "      <th>Rdate</th>\n",
       "      <th>artsongcnt</th>\n",
       "      <th>songfreq</th>\n",
       "      <th>yrsongcnt</th>\n",
       "    </tr>\n",
       "  </thead>\n",
       "  <tbody>\n",
       "    <tr>\n",
       "      <th>43</th>\n",
       "      <td>Glamazon</td>\n",
       "      <td>False</td>\n",
       "      <td>57</td>\n",
       "      <td>RuPaul</td>\n",
       "      <td>Glamazon</td>\n",
       "      <td>2011</td>\n",
       "      <td>88</td>\n",
       "      <td>3</td>\n",
       "      <td>36</td>\n",
       "    </tr>\n",
       "    <tr>\n",
       "      <th>129</th>\n",
       "      <td>Adrenaline (feat. Myah Marie)</td>\n",
       "      <td>False</td>\n",
       "      <td>60</td>\n",
       "      <td>RuPaul</td>\n",
       "      <td>Born Naked</td>\n",
       "      <td>2014</td>\n",
       "      <td>88</td>\n",
       "      <td>3</td>\n",
       "      <td>47</td>\n",
       "    </tr>\n",
       "    <tr>\n",
       "      <th>132</th>\n",
       "      <td>Adrenaline (feat. Myah Marie)</td>\n",
       "      <td>False</td>\n",
       "      <td>60</td>\n",
       "      <td>RuPaul</td>\n",
       "      <td>Born Naked</td>\n",
       "      <td>2014</td>\n",
       "      <td>88</td>\n",
       "      <td>3</td>\n",
       "      <td>47</td>\n",
       "    </tr>\n",
       "    <tr>\n",
       "      <th>133</th>\n",
       "      <td>Glamazon</td>\n",
       "      <td>False</td>\n",
       "      <td>57</td>\n",
       "      <td>RuPaul</td>\n",
       "      <td>Glamazon</td>\n",
       "      <td>2011</td>\n",
       "      <td>88</td>\n",
       "      <td>3</td>\n",
       "      <td>36</td>\n",
       "    </tr>\n",
       "    <tr>\n",
       "      <th>157</th>\n",
       "      <td>Shake, Rattle And Roll</td>\n",
       "      <td>False</td>\n",
       "      <td>51</td>\n",
       "      <td>Big Joe Turner</td>\n",
       "      <td>Shake Rattle &amp; Rock</td>\n",
       "      <td>2007</td>\n",
       "      <td>4</td>\n",
       "      <td>3</td>\n",
       "      <td>41</td>\n",
       "    </tr>\n",
       "  </tbody>\n",
       "</table>\n",
       "</div>"
      ],
      "text/plain": [
       "                             Track  Explicit  Tpopularity          Artist  \\\n",
       "43                        Glamazon     False           57          RuPaul   \n",
       "129  Adrenaline (feat. Myah Marie)     False           60          RuPaul   \n",
       "132  Adrenaline (feat. Myah Marie)     False           60          RuPaul   \n",
       "133                       Glamazon     False           57          RuPaul   \n",
       "157         Shake, Rattle And Roll     False           51  Big Joe Turner   \n",
       "\n",
       "                   Album  Rdate  artsongcnt  songfreq  yrsongcnt  \n",
       "43              Glamazon   2011          88         3         36  \n",
       "129           Born Naked   2014          88         3         47  \n",
       "132           Born Naked   2014          88         3         47  \n",
       "133             Glamazon   2011          88         3         36  \n",
       "157  Shake Rattle & Rock   2007           4         3         41  "
      ]
     },
     "execution_count": 65,
     "metadata": {},
     "output_type": "execute_result"
    }
   ],
   "source": [
    "pg_tracks = statipy_yr[statipy_yr['Explicit']==False]\n",
    "freqpg_tracks = pg_tracks[pg_tracks['songfreq']>=3]\n",
    "freqpg_tracks.head()"
   ]
  },
  {
   "cell_type": "code",
   "execution_count": 68,
   "metadata": {},
   "outputs": [],
   "source": [
    "## plots artists with most repeats && pg13 tracks\n",
    "artfreqpg = freqpg_tracks.groupby('Artist')[['Tpopularity', 'artsongcnt', 'Explicit', 'songfreq']].mean()"
   ]
  },
  {
   "cell_type": "code",
   "execution_count": 75,
   "metadata": {},
   "outputs": [
    {
     "data": {
      "text/plain": [
       "<matplotlib.axes._subplots.AxesSubplot at 0x12055a358>"
      ]
     },
     "execution_count": 75,
     "metadata": {},
     "output_type": "execute_result"
    },
    {
     "data": {
      "image/png": "[encoded data removed]",
      "text/plain": [
       "<Figure size 432x288 with 1 Axes>"
      ]
     },
     "metadata": {
      "needs_background": "light"
     },
     "output_type": "display_data"
    }
   ],
   "source": [
    "artfreqpg.plot.barh(grid=True)"
   ]
  },
  {
   "cell_type": "markdown",
   "metadata": {},
   "source": [
    "## GROUP C\n",
    "#### pg- highpop :: artist  mean (most pop)"
   ]
  },
  {
   "cell_type": "code",
   "execution_count": 102,
   "metadata": {},
   "outputs": [],
   "source": [
    "pgpop_tracks = pg_tracks[pg_tracks['Tpopularity']>=43]\n",
    "pg_art_info = pgpop_tracks.groupby(['Artist', 'artsongcnt'])[['Tpopularity']]\n",
    "# artsongcnt reflects pg13 only songs by artist!"
   ]
  },
  {
   "cell_type": "code",
   "execution_count": 103,
   "metadata": {},
   "outputs": [
    {
     "data": {
      "text/plain": [
       "<matplotlib.axes._subplots.AxesSubplot at 0x121944c88>"
      ]
     },
     "execution_count": 103,
     "metadata": {},
     "output_type": "execute_result"
    },
    {
     "data": {
      "image/png": "[encoded data removed]",
      "text/plain": [
       "<Figure size 432x288 with 1 Axes>"
      ]
     },
     "metadata": {
      "needs_background": "light"
     },
     "output_type": "display_data"
    }
   ],
   "source": [
    "pg_art_info.mean().sort_values('Tpopularity').tail(15).plot.bar()"
   ]
  },
  {
   "cell_type": "markdown",
   "metadata": {},
   "source": [
    "## GROUP D\n",
    "#### art pg max cnt - statipy_yr >13.74 - "
   ]
  },
  {
   "cell_type": "code",
   "execution_count": 82,
   "metadata": {},
   "outputs": [
    {
     "data": {
      "text/plain": [
       "13.74268415741675"
      ]
     },
     "execution_count": 82,
     "metadata": {},
     "output_type": "execute_result"
    }
   ],
   "source": [
    "statipy_yr['artsongcnt'].mean()"
   ]
  },
  {
   "cell_type": "code",
   "execution_count": 83,
   "metadata": {},
   "outputs": [],
   "source": [
    "artmaxcnt = statipy_yr[statipy_yr['artsongcnt']>=13.74]"
   ]
  },
  {
   "cell_type": "code",
   "execution_count": 111,
   "metadata": {},
   "outputs": [
    {
     "data": {
      "text/html": [
       "<div>\n",
       "<style scoped>\n",
       "    .dataframe tbody tr th:only-of-type {\n",
       "        vertical-align: middle;\n",
       "    }\n",
       "\n",
       "    .dataframe tbody tr th {\n",
       "        vertical-align: top;\n",
       "    }\n",
       "\n",
       "    .dataframe thead th {\n",
       "        text-align: right;\n",
       "    }\n",
       "</style>\n",
       "<table border=\"1\" class=\"dataframe\">\n",
       "  <thead>\n",
       "    <tr style=\"text-align: right;\">\n",
       "      <th></th>\n",
       "      <th>Track</th>\n",
       "      <th>Explicit</th>\n",
       "      <th>Tpopularity</th>\n",
       "      <th>Artist</th>\n",
       "      <th>Album</th>\n",
       "      <th>Rdate</th>\n",
       "      <th>artsongcnt</th>\n",
       "      <th>songfreq</th>\n",
       "      <th>yrsongcnt</th>\n",
       "    </tr>\n",
       "  </thead>\n",
       "  <tbody>\n",
       "    <tr>\n",
       "      <th>6</th>\n",
       "      <td>Sissy That Walk</td>\n",
       "      <td>False</td>\n",
       "      <td>67</td>\n",
       "      <td>RuPaul</td>\n",
       "      <td>Born Naked</td>\n",
       "      <td>2014</td>\n",
       "      <td>88</td>\n",
       "      <td>2</td>\n",
       "      <td>47</td>\n",
       "    </tr>\n",
       "    <tr>\n",
       "      <th>10</th>\n",
       "      <td>DRAG UP YOUR LIFE</td>\n",
       "      <td>False</td>\n",
       "      <td>48</td>\n",
       "      <td>RuPaul</td>\n",
       "      <td>DRAG UP YOUR LIFE</td>\n",
       "      <td>2018</td>\n",
       "      <td>88</td>\n",
       "      <td>1</td>\n",
       "      <td>118</td>\n",
       "    </tr>\n",
       "    <tr>\n",
       "      <th>16</th>\n",
       "      <td>Kitty Girl (feat. The Cast of Rupaul's Drag Ra...</td>\n",
       "      <td>False</td>\n",
       "      <td>63</td>\n",
       "      <td>RuPaul</td>\n",
       "      <td>Kitty Girl (feat. The Cast of Rupaul's Drag Ra...</td>\n",
       "      <td>2018</td>\n",
       "      <td>88</td>\n",
       "      <td>2</td>\n",
       "      <td>118</td>\n",
       "    </tr>\n",
       "    <tr>\n",
       "      <th>43</th>\n",
       "      <td>Glamazon</td>\n",
       "      <td>False</td>\n",
       "      <td>57</td>\n",
       "      <td>RuPaul</td>\n",
       "      <td>Glamazon</td>\n",
       "      <td>2011</td>\n",
       "      <td>88</td>\n",
       "      <td>3</td>\n",
       "      <td>36</td>\n",
       "    </tr>\n",
       "    <tr>\n",
       "      <th>56</th>\n",
       "      <td>Category Is (feat. The Cast of Rupaul's Drag R...</td>\n",
       "      <td>False</td>\n",
       "      <td>56</td>\n",
       "      <td>RuPaul</td>\n",
       "      <td>Category Is (feat. The Cast of Rupaul's Drag R...</td>\n",
       "      <td>2018</td>\n",
       "      <td>88</td>\n",
       "      <td>1</td>\n",
       "      <td>118</td>\n",
       "    </tr>\n",
       "  </tbody>\n",
       "</table>\n",
       "</div>"
      ],
      "text/plain": [
       "                                                Track  Explicit  Tpopularity  \\\n",
       "6                                     Sissy That Walk     False           67   \n",
       "10                                  DRAG UP YOUR LIFE     False           48   \n",
       "16  Kitty Girl (feat. The Cast of Rupaul's Drag Ra...     False           63   \n",
       "43                                           Glamazon     False           57   \n",
       "56  Category Is (feat. The Cast of Rupaul's Drag R...     False           56   \n",
       "\n",
       "    Artist                                              Album  Rdate  \\\n",
       "6   RuPaul                                         Born Naked   2014   \n",
       "10  RuPaul                                  DRAG UP YOUR LIFE   2018   \n",
       "16  RuPaul  Kitty Girl (feat. The Cast of Rupaul's Drag Ra...   2018   \n",
       "43  RuPaul                                           Glamazon   2011   \n",
       "56  RuPaul  Category Is (feat. The Cast of Rupaul's Drag R...   2018   \n",
       "\n",
       "    artsongcnt  songfreq  yrsongcnt  \n",
       "6           88         2         47  \n",
       "10          88         1        118  \n",
       "16          88         2        118  \n",
       "43          88         3         36  \n",
       "56          88         1        118  "
      ]
     },
     "execution_count": 111,
     "metadata": {},
     "output_type": "execute_result"
    }
   ],
   "source": [
    "artpgmaxcnt = artmaxcnt[artmaxcnt['Explicit']==0.0]\n",
    "artpgmaxcnt.head()"
   ]
  },
  {
   "cell_type": "code",
   "execution_count": 109,
   "metadata": {},
   "outputs": [],
   "source": [
    "artpg_df = artpgmaxcnt.groupby(['Artist'])[['Tpopularity']]"
   ]
  },
  {
   "cell_type": "code",
   "execution_count": 110,
   "metadata": {},
   "outputs": [
    {
     "data": {
      "text/plain": [
       "<matplotlib.axes._subplots.AxesSubplot at 0x1256e50b8>"
      ]
     },
     "execution_count": 110,
     "metadata": {},
     "output_type": "execute_result"
    },
    {
     "data": {
      "image/png": "[encoded data removed]",
      "text/plain": [
       "<Figure size 432x288 with 1 Axes>"
      ]
     },
     "metadata": {
      "needs_background": "light"
     },
     "output_type": "display_data"
    }
   ],
   "source": [
    "artpg_df.mean().sort_values('Tpopularity').plot.bar()"
   ]
  },
  {
   "cell_type": "markdown",
   "metadata": {},
   "source": [
    "##### plots popularity artsongcnt over date explicit || artex_df"
   ]
  },
  {
   "cell_type": "code",
   "execution_count": 112,
   "metadata": {},
   "outputs": [
    {
     "data": {
      "text/plain": [
       "13.74268415741675"
      ]
     },
     "execution_count": 112,
     "metadata": {},
     "output_type": "execute_result"
    }
   ],
   "source": [
    "statipy_yr['artsongcnt'].mean()"
   ]
  },
  {
   "cell_type": "code",
   "execution_count": 113,
   "metadata": {},
   "outputs": [],
   "source": [
    "artmaxcnt = statipy_yr[statipy_yr['artsongcnt']>=13.74]"
   ]
  },
  {
   "cell_type": "code",
   "execution_count": 135,
   "metadata": {},
   "outputs": [],
   "source": [
    "artex_df = artmaxcnt[artmaxcnt['Explicit']<=0.0]\n",
    "artex_set = artex_df.groupby(['Artist'])[['Tpopularity', 'songfreq']].mean()"
   ]
  },
  {
   "cell_type": "code",
   "execution_count": 136,
   "metadata": {},
   "outputs": [
    {
     "data": {
      "text/plain": [
       "<matplotlib.axes._subplots.AxesSubplot at 0x126174630>"
      ]
     },
     "execution_count": 136,
     "metadata": {},
     "output_type": "execute_result"
    },
    {
     "data": {
      "image/png": "[encoded data removed]",
      "text/plain": [
       "<Figure size 432x288 with 1 Axes>"
      ]
     },
     "metadata": {
      "needs_background": "light"
     },
     "output_type": "display_data"
    }
   ],
   "source": [
    "artex_set.sort_values('Tpopularity').plot.barh()"
   ]
  },
  {
   "cell_type": "markdown",
   "metadata": {},
   "source": [
    "# 6. DATE II / YEAR\n",
    "#### YEAR x old / new\n",
    "\n",
    "*****************************"
   ]
  },
  {
   "cell_type": "markdown",
   "metadata": {},
   "source": [
    "## GROUP A\n",
    "#### (oldest dates)"
   ]
  },
  {
   "cell_type": "code",
   "execution_count": 142,
   "metadata": {},
   "outputs": [],
   "source": [
    "old_tracks = statipy_yr.groupby(['Rdate', 'Artist'])[['Tpopularity', 'artsongcnt', 'yrsongcnt']].mean().head(15)"
   ]
  },
  {
   "cell_type": "code",
   "execution_count": 143,
   "metadata": {},
   "outputs": [
    {
     "data": {
      "text/plain": [
       "<matplotlib.axes._subplots.AxesSubplot at 0x1268f8f98>"
      ]
     },
     "execution_count": 143,
     "metadata": {},
     "output_type": "execute_result"
    },
    {
     "data": {
      "image/png": "[encoded data removed]",
      "text/plain": [
       "<Figure size 432x288 with 1 Axes>"
      ]
     },
     "metadata": {
      "needs_background": "light"
     },
     "output_type": "display_data"
    }
   ],
   "source": [
    "old_tracks.plot(kind='barh',stacked=True)"
   ]
  },
  {
   "cell_type": "markdown",
   "metadata": {},
   "source": [
    "## GROUP B\n",
    "#### (newest dates)"
   ]
  },
  {
   "cell_type": "code",
   "execution_count": 144,
   "metadata": {},
   "outputs": [],
   "source": [
    "newest_tracks = statipy_yr.groupby(['Rdate', 'Artist'])[['Tpopularity', 'artsongcnt', 'yrsongcnt']].mean().tail(15)"
   ]
  },
  {
   "cell_type": "code",
   "execution_count": 145,
   "metadata": {},
   "outputs": [
    {
     "data": {
      "text/plain": [
       "<matplotlib.axes._subplots.AxesSubplot at 0x125347c88>"
      ]
     },
     "execution_count": 145,
     "metadata": {},
     "output_type": "execute_result"
    },
    {
     "data": {
      "image/png": "[encoded data removed]",
      "text/plain": [
       "<Figure size 432x288 with 1 Axes>"
      ]
     },
     "metadata": {
      "needs_background": "light"
     },
     "output_type": "display_data"
    }
   ],
   "source": [
    "newest_tracks.plot(kind='barh',stacked=True)"
   ]
  },
  {
   "cell_type": "markdown",
   "metadata": {},
   "source": [
    "# 7. ARTIST II\n",
    "*****************************"
   ]
  },
  {
   "cell_type": "code",
   "execution_count": 170,
   "metadata": {
    "scrolled": true
   },
   "outputs": [
    {
     "data": {
      "text/html": [
       "<div>\n",
       "<style scoped>\n",
       "    .dataframe tbody tr th:only-of-type {\n",
       "        vertical-align: middle;\n",
       "    }\n",
       "\n",
       "    .dataframe tbody tr th {\n",
       "        vertical-align: top;\n",
       "    }\n",
       "\n",
       "    .dataframe thead th {\n",
       "        text-align: right;\n",
       "    }\n",
       "</style>\n",
       "<table border=\"1\" class=\"dataframe\">\n",
       "  <thead>\n",
       "    <tr style=\"text-align: right;\">\n",
       "      <th></th>\n",
       "      <th></th>\n",
       "      <th>Tpopularity</th>\n",
       "      <th>artsongcnt</th>\n",
       "      <th>songfreq</th>\n",
       "      <th>Explicit</th>\n",
       "    </tr>\n",
       "    <tr>\n",
       "      <th>Artist</th>\n",
       "      <th>Rdate</th>\n",
       "      <th></th>\n",
       "      <th></th>\n",
       "      <th></th>\n",
       "      <th></th>\n",
       "    </tr>\n",
       "  </thead>\n",
       "  <tbody>\n",
       "    <tr>\n",
       "      <th>!!!</th>\n",
       "      <th>2017</th>\n",
       "      <td>38.0</td>\n",
       "      <td>2.0</td>\n",
       "      <td>2.0</td>\n",
       "      <td>0.0</td>\n",
       "    </tr>\n",
       "    <tr>\n",
       "      <th>2Pac</th>\n",
       "      <th>2014</th>\n",
       "      <td>43.0</td>\n",
       "      <td>1.0</td>\n",
       "      <td>1.0</td>\n",
       "      <td>1.0</td>\n",
       "    </tr>\n",
       "    <tr>\n",
       "      <th>Aaron Copland</th>\n",
       "      <th>1960</th>\n",
       "      <td>50.0</td>\n",
       "      <td>1.0</td>\n",
       "      <td>1.0</td>\n",
       "      <td>0.0</td>\n",
       "    </tr>\n",
       "    <tr>\n",
       "      <th>Adam Joseph</th>\n",
       "      <th>2017</th>\n",
       "      <td>40.0</td>\n",
       "      <td>1.0</td>\n",
       "      <td>1.0</td>\n",
       "      <td>0.0</td>\n",
       "    </tr>\n",
       "    <tr>\n",
       "      <th>Adore Delano</th>\n",
       "      <th>2014</th>\n",
       "      <td>49.0</td>\n",
       "      <td>1.0</td>\n",
       "      <td>1.0</td>\n",
       "      <td>1.0</td>\n",
       "    </tr>\n",
       "  </tbody>\n",
       "</table>\n",
       "</div>"
      ],
      "text/plain": [
       "                     Tpopularity  artsongcnt  songfreq  Explicit\n",
       "Artist        Rdate                                             \n",
       "!!!           2017          38.0         2.0       2.0       0.0\n",
       "2Pac          2014          43.0         1.0       1.0       1.0\n",
       "Aaron Copland 1960          50.0         1.0       1.0       0.0\n",
       "Adam Joseph   2017          40.0         1.0       1.0       0.0\n",
       "Adore Delano  2014          49.0         1.0       1.0       1.0"
      ]
     },
     "execution_count": 170,
     "metadata": {},
     "output_type": "execute_result"
    }
   ],
   "source": [
    "artistdf1 = statipy_yr.groupby(['Artist', 'Rdate'])[['Tpopularity', 'artsongcnt', 'songfreq', 'Explicit']].mean()\n",
    "artistdf1.head()"
   ]
  },
  {
   "cell_type": "code",
   "execution_count": 150,
   "metadata": {
    "scrolled": true
   },
   "outputs": [],
   "source": [
    "artmaxcnt1 = artistdf1[artistdf1['artsongcnt']>=5]\n",
    "artnonr = artmaxcnt1[artmaxcnt1['songfreq']<=1.50]\n",
    "artrepeats = artmaxcnt1[artmaxcnt1['songfreq']>=1.50]"
   ]
  },
  {
   "cell_type": "code",
   "execution_count": 171,
   "metadata": {
    "scrolled": true
   },
   "outputs": [
    {
     "data": {
      "text/plain": [
       "<matplotlib.axes._subplots.AxesSubplot at 0x128165668>"
      ]
     },
     "execution_count": 171,
     "metadata": {},
     "output_type": "execute_result"
    },
    {
     "data": {
      "image/png": "[encoded data removed]",
      "text/plain": [
       "<Figure size 432x288 with 1 Axes>"
      ]
     },
     "metadata": {
      "needs_background": "light"
     },
     "output_type": "display_data"
    }
   ],
   "source": [
    "artrepeats.groupby('Artist')['Tpopularity'].mean().plot.barh(stacked=True)"
   ]
  },
  {
   "cell_type": "code",
   "execution_count": 172,
   "metadata": {},
   "outputs": [
    {
     "data": {
      "text/plain": [
       "<matplotlib.axes._subplots.AxesSubplot at 0x128290a58>"
      ]
     },
     "execution_count": 172,
     "metadata": {},
     "output_type": "execute_result"
    },
    {
     "data": {
      "image/png": "[encoded data removed]",
      "text/plain": [
       "<Figure size 432x288 with 1 Axes>"
      ]
     },
     "metadata": {
      "needs_background": "light"
     },
     "output_type": "display_data"
    }
   ],
   "source": [
    "artnonr.groupby(['Artist'])['Tpopularity'].mean().plot.barh(stacked=True)"
   ]
  },
  {
   "cell_type": "code",
   "execution_count": 180,
   "metadata": {},
   "outputs": [
    {
     "data": {
      "text/plain": [
       "<matplotlib.axes._subplots.AxesSubplot at 0x1288e9898>"
      ]
     },
     "execution_count": 180,
     "metadata": {},
     "output_type": "execute_result"
    },
    {
     "data": {
      "image/png": "[encoded data removed]",
      "text/plain": [
       "<Figure size 432x288 with 1 Axes>"
      ]
     },
     "metadata": {
      "needs_background": "light"
     },
     "output_type": "display_data"
    }
   ],
   "source": [
    "artnonr.groupby(['Rdate'])['Tpopularity'].mean().plot.line(stacked=True, alpha=0.50)\n",
    "artrepeats.groupby(['Rdate'])['Tpopularity'].mean().plot.line(stacked=True)"
   ]
  },
  {
   "cell_type": "code",
   "execution_count": null,
   "metadata": {},
   "outputs": [],
   "source": [
    "## plots artists with more than 5 tracks album stats over dates"
   ]
  },
  {
   "cell_type": "code",
   "execution_count": 191,
   "metadata": {},
   "outputs": [
    {
     "data": {
      "text/plain": [
       "Tpopularity    43.939947\n",
       "dtype: float64"
      ]
     },
     "execution_count": 191,
     "metadata": {},
     "output_type": "execute_result"
    }
   ],
   "source": [
    "artmaxcnt1[['Tpopularity']].mean()"
   ]
  },
  {
   "cell_type": "code",
   "execution_count": 194,
   "metadata": {
    "scrolled": true
   },
   "outputs": [],
   "source": [
    "highpop_artmax = artmaxcnt1[artmaxcnt1['Tpopularity']>=43.93]"
   ]
  },
  {
   "cell_type": "code",
   "execution_count": 195,
   "metadata": {
    "scrolled": true
   },
   "outputs": [
    {
     "data": {
      "text/html": [
       "<div>\n",
       "<style scoped>\n",
       "    .dataframe tbody tr th:only-of-type {\n",
       "        vertical-align: middle;\n",
       "    }\n",
       "\n",
       "    .dataframe tbody tr th {\n",
       "        vertical-align: top;\n",
       "    }\n",
       "\n",
       "    .dataframe thead th {\n",
       "        text-align: right;\n",
       "    }\n",
       "</style>\n",
       "<table border=\"1\" class=\"dataframe\">\n",
       "  <thead>\n",
       "    <tr style=\"text-align: right;\">\n",
       "      <th></th>\n",
       "      <th></th>\n",
       "      <th>Tpopularity</th>\n",
       "      <th>artsongcnt</th>\n",
       "      <th>songfreq</th>\n",
       "      <th>Explicit</th>\n",
       "    </tr>\n",
       "    <tr>\n",
       "      <th>Artist</th>\n",
       "      <th>Rdate</th>\n",
       "      <th></th>\n",
       "      <th></th>\n",
       "      <th></th>\n",
       "      <th></th>\n",
       "    </tr>\n",
       "  </thead>\n",
       "  <tbody>\n",
       "    <tr>\n",
       "      <th>Aja</th>\n",
       "      <th>2017</th>\n",
       "      <td>48.000000</td>\n",
       "      <td>5.0</td>\n",
       "      <td>1.000000</td>\n",
       "      <td>0.500000</td>\n",
       "    </tr>\n",
       "    <tr>\n",
       "      <th>Ariana Grande</th>\n",
       "      <th>2018</th>\n",
       "      <td>77.833333</td>\n",
       "      <td>6.0</td>\n",
       "      <td>1.666667</td>\n",
       "      <td>0.833333</td>\n",
       "    </tr>\n",
       "    <tr>\n",
       "      <th rowspan=\"2\" valign=\"top\">Billie Holiday</th>\n",
       "      <th>1956</th>\n",
       "      <td>55.000000</td>\n",
       "      <td>7.0</td>\n",
       "      <td>1.000000</td>\n",
       "      <td>0.000000</td>\n",
       "    </tr>\n",
       "    <tr>\n",
       "      <th>1957</th>\n",
       "      <td>47.500000</td>\n",
       "      <td>7.0</td>\n",
       "      <td>1.000000</td>\n",
       "      <td>0.000000</td>\n",
       "    </tr>\n",
       "    <tr>\n",
       "      <th>Bo Diddley</th>\n",
       "      <th>1957</th>\n",
       "      <td>50.000000</td>\n",
       "      <td>7.0</td>\n",
       "      <td>2.000000</td>\n",
       "      <td>0.000000</td>\n",
       "    </tr>\n",
       "    <tr>\n",
       "      <th>Camille Saint-Saëns</th>\n",
       "      <th>2015</th>\n",
       "      <td>62.000000</td>\n",
       "      <td>15.0</td>\n",
       "      <td>1.000000</td>\n",
       "      <td>0.000000</td>\n",
       "    </tr>\n",
       "    <tr>\n",
       "      <th rowspan=\"2\" valign=\"top\">Ciara</th>\n",
       "      <th>2004</th>\n",
       "      <td>72.333333</td>\n",
       "      <td>5.0</td>\n",
       "      <td>1.666667</td>\n",
       "      <td>0.000000</td>\n",
       "    </tr>\n",
       "    <tr>\n",
       "      <th>2018</th>\n",
       "      <td>76.000000</td>\n",
       "      <td>5.0</td>\n",
       "      <td>2.000000</td>\n",
       "      <td>0.000000</td>\n",
       "    </tr>\n",
       "    <tr>\n",
       "      <th rowspan=\"3\" valign=\"top\">Deftones</th>\n",
       "      <th>1997</th>\n",
       "      <td>64.000000</td>\n",
       "      <td>8.0</td>\n",
       "      <td>1.000000</td>\n",
       "      <td>0.000000</td>\n",
       "    </tr>\n",
       "    <tr>\n",
       "      <th>2000</th>\n",
       "      <td>59.400000</td>\n",
       "      <td>8.0</td>\n",
       "      <td>1.000000</td>\n",
       "      <td>0.000000</td>\n",
       "    </tr>\n",
       "    <tr>\n",
       "      <th>2010</th>\n",
       "      <td>53.000000</td>\n",
       "      <td>8.0</td>\n",
       "      <td>1.000000</td>\n",
       "      <td>0.000000</td>\n",
       "    </tr>\n",
       "    <tr>\n",
       "      <th>Eartha Kitt</th>\n",
       "      <th>2003</th>\n",
       "      <td>51.000000</td>\n",
       "      <td>6.0</td>\n",
       "      <td>1.000000</td>\n",
       "      <td>0.000000</td>\n",
       "    </tr>\n",
       "    <tr>\n",
       "      <th rowspan=\"4\" valign=\"top\">Ella Fitzgerald</th>\n",
       "      <th>1956</th>\n",
       "      <td>51.000000</td>\n",
       "      <td>7.0</td>\n",
       "      <td>1.000000</td>\n",
       "      <td>0.000000</td>\n",
       "    </tr>\n",
       "    <tr>\n",
       "      <th>1995</th>\n",
       "      <td>55.000000</td>\n",
       "      <td>7.0</td>\n",
       "      <td>2.000000</td>\n",
       "      <td>0.000000</td>\n",
       "    </tr>\n",
       "    <tr>\n",
       "      <th>2014</th>\n",
       "      <td>50.000000</td>\n",
       "      <td>7.0</td>\n",
       "      <td>1.000000</td>\n",
       "      <td>0.000000</td>\n",
       "    </tr>\n",
       "    <tr>\n",
       "      <th>2017</th>\n",
       "      <td>52.000000</td>\n",
       "      <td>7.0</td>\n",
       "      <td>1.000000</td>\n",
       "      <td>0.000000</td>\n",
       "    </tr>\n",
       "    <tr>\n",
       "      <th>Janelle Monáe</th>\n",
       "      <th>2018</th>\n",
       "      <td>64.833333</td>\n",
       "      <td>6.0</td>\n",
       "      <td>1.666667</td>\n",
       "      <td>1.000000</td>\n",
       "    </tr>\n",
       "    <tr>\n",
       "      <th rowspan=\"3\" valign=\"top\">Johann Sebastian Bach</th>\n",
       "      <th>1983</th>\n",
       "      <td>68.500000</td>\n",
       "      <td>6.0</td>\n",
       "      <td>2.000000</td>\n",
       "      <td>0.000000</td>\n",
       "    </tr>\n",
       "    <tr>\n",
       "      <th>2002</th>\n",
       "      <td>47.000000</td>\n",
       "      <td>6.0</td>\n",
       "      <td>1.000000</td>\n",
       "      <td>0.000000</td>\n",
       "    </tr>\n",
       "    <tr>\n",
       "      <th>2013</th>\n",
       "      <td>58.000000</td>\n",
       "      <td>6.0</td>\n",
       "      <td>1.000000</td>\n",
       "      <td>0.000000</td>\n",
       "    </tr>\n",
       "    <tr>\n",
       "      <th>Le1f</th>\n",
       "      <th>2014</th>\n",
       "      <td>45.000000</td>\n",
       "      <td>6.0</td>\n",
       "      <td>2.000000</td>\n",
       "      <td>1.000000</td>\n",
       "    </tr>\n",
       "    <tr>\n",
       "      <th rowspan=\"2\" valign=\"top\">Leikeli47</th>\n",
       "      <th>2016</th>\n",
       "      <td>46.000000</td>\n",
       "      <td>9.0</td>\n",
       "      <td>5.000000</td>\n",
       "      <td>1.000000</td>\n",
       "    </tr>\n",
       "    <tr>\n",
       "      <th>2017</th>\n",
       "      <td>44.000000</td>\n",
       "      <td>9.0</td>\n",
       "      <td>2.000000</td>\n",
       "      <td>1.000000</td>\n",
       "    </tr>\n",
       "    <tr>\n",
       "      <th rowspan=\"4\" valign=\"top\">Lizzo</th>\n",
       "      <th>2016</th>\n",
       "      <td>54.000000</td>\n",
       "      <td>13.0</td>\n",
       "      <td>1.000000</td>\n",
       "      <td>1.000000</td>\n",
       "    </tr>\n",
       "    <tr>\n",
       "      <th>2017</th>\n",
       "      <td>63.000000</td>\n",
       "      <td>13.0</td>\n",
       "      <td>2.000000</td>\n",
       "      <td>0.000000</td>\n",
       "    </tr>\n",
       "    <tr>\n",
       "      <th>2018</th>\n",
       "      <td>61.000000</td>\n",
       "      <td>13.0</td>\n",
       "      <td>1.000000</td>\n",
       "      <td>0.000000</td>\n",
       "    </tr>\n",
       "    <tr>\n",
       "      <th>2019</th>\n",
       "      <td>67.666667</td>\n",
       "      <td>13.0</td>\n",
       "      <td>1.666667</td>\n",
       "      <td>1.000000</td>\n",
       "    </tr>\n",
       "    <tr>\n",
       "      <th rowspan=\"3\" valign=\"top\">Nirvana</th>\n",
       "      <th>1991</th>\n",
       "      <td>65.000000</td>\n",
       "      <td>15.0</td>\n",
       "      <td>1.333333</td>\n",
       "      <td>0.000000</td>\n",
       "    </tr>\n",
       "    <tr>\n",
       "      <th>1993</th>\n",
       "      <td>57.000000</td>\n",
       "      <td>15.0</td>\n",
       "      <td>1.000000</td>\n",
       "      <td>0.000000</td>\n",
       "    </tr>\n",
       "    <tr>\n",
       "      <th>2009</th>\n",
       "      <td>53.600000</td>\n",
       "      <td>15.0</td>\n",
       "      <td>1.000000</td>\n",
       "      <td>0.000000</td>\n",
       "    </tr>\n",
       "    <tr>\n",
       "      <th rowspan=\"4\" valign=\"top\">Rihanna</th>\n",
       "      <th>2010</th>\n",
       "      <td>61.000000</td>\n",
       "      <td>16.0</td>\n",
       "      <td>1.000000</td>\n",
       "      <td>1.000000</td>\n",
       "    </tr>\n",
       "    <tr>\n",
       "      <th>2011</th>\n",
       "      <td>59.500000</td>\n",
       "      <td>16.0</td>\n",
       "      <td>2.000000</td>\n",
       "      <td>0.500000</td>\n",
       "    </tr>\n",
       "    <tr>\n",
       "      <th>2012</th>\n",
       "      <td>55.000000</td>\n",
       "      <td>16.0</td>\n",
       "      <td>1.000000</td>\n",
       "      <td>0.000000</td>\n",
       "    </tr>\n",
       "    <tr>\n",
       "      <th>2016</th>\n",
       "      <td>63.222222</td>\n",
       "      <td>16.0</td>\n",
       "      <td>3.444444</td>\n",
       "      <td>1.000000</td>\n",
       "    </tr>\n",
       "    <tr>\n",
       "      <th rowspan=\"5\" valign=\"top\">RuPaul</th>\n",
       "      <th>2011</th>\n",
       "      <td>55.000000</td>\n",
       "      <td>88.0</td>\n",
       "      <td>2.666667</td>\n",
       "      <td>0.000000</td>\n",
       "    </tr>\n",
       "    <tr>\n",
       "      <th>2012</th>\n",
       "      <td>50.000000</td>\n",
       "      <td>88.0</td>\n",
       "      <td>2.000000</td>\n",
       "      <td>0.000000</td>\n",
       "    </tr>\n",
       "    <tr>\n",
       "      <th>2014</th>\n",
       "      <td>48.500000</td>\n",
       "      <td>88.0</td>\n",
       "      <td>1.857143</td>\n",
       "      <td>0.000000</td>\n",
       "    </tr>\n",
       "    <tr>\n",
       "      <th>2018</th>\n",
       "      <td>57.500000</td>\n",
       "      <td>88.0</td>\n",
       "      <td>1.500000</td>\n",
       "      <td>0.000000</td>\n",
       "    </tr>\n",
       "    <tr>\n",
       "      <th>2019</th>\n",
       "      <td>58.000000</td>\n",
       "      <td>88.0</td>\n",
       "      <td>1.000000</td>\n",
       "      <td>0.000000</td>\n",
       "    </tr>\n",
       "    <tr>\n",
       "      <th rowspan=\"2\" valign=\"top\">Sharon Van Etten</th>\n",
       "      <th>2017</th>\n",
       "      <td>55.000000</td>\n",
       "      <td>7.0</td>\n",
       "      <td>3.400000</td>\n",
       "      <td>0.000000</td>\n",
       "    </tr>\n",
       "    <tr>\n",
       "      <th>2019</th>\n",
       "      <td>57.000000</td>\n",
       "      <td>7.0</td>\n",
       "      <td>1.000000</td>\n",
       "      <td>0.000000</td>\n",
       "    </tr>\n",
       "    <tr>\n",
       "      <th>Violent Femmes</th>\n",
       "      <th>1983</th>\n",
       "      <td>57.000000</td>\n",
       "      <td>10.0</td>\n",
       "      <td>2.714286</td>\n",
       "      <td>0.571429</td>\n",
       "    </tr>\n",
       "    <tr>\n",
       "      <th>Yeah Yeah Yeahs</th>\n",
       "      <th>2009</th>\n",
       "      <td>47.000000</td>\n",
       "      <td>11.0</td>\n",
       "      <td>1.666667</td>\n",
       "      <td>0.000000</td>\n",
       "    </tr>\n",
       "    <tr>\n",
       "      <th>Édith Piaf</th>\n",
       "      <th>1987</th>\n",
       "      <td>49.333333</td>\n",
       "      <td>8.0</td>\n",
       "      <td>1.000000</td>\n",
       "      <td>0.000000</td>\n",
       "    </tr>\n",
       "  </tbody>\n",
       "</table>\n",
       "</div>"
      ],
      "text/plain": [
       "                             Tpopularity  artsongcnt  songfreq  Explicit\n",
       "Artist                Rdate                                             \n",
       "Aja                   2017     48.000000         5.0  1.000000  0.500000\n",
       "Ariana Grande         2018     77.833333         6.0  1.666667  0.833333\n",
       "Billie Holiday        1956     55.000000         7.0  1.000000  0.000000\n",
       "                      1957     47.500000         7.0  1.000000  0.000000\n",
       "Bo Diddley            1957     50.000000         7.0  2.000000  0.000000\n",
       "Camille Saint-Saëns   2015     62.000000        15.0  1.000000  0.000000\n",
       "Ciara                 2004     72.333333         5.0  1.666667  0.000000\n",
       "                      2018     76.000000         5.0  2.000000  0.000000\n",
       "Deftones              1997     64.000000         8.0  1.000000  0.000000\n",
       "                      2000     59.400000         8.0  1.000000  0.000000\n",
       "                      2010     53.000000         8.0  1.000000  0.000000\n",
       "Eartha Kitt           2003     51.000000         6.0  1.000000  0.000000\n",
       "Ella Fitzgerald       1956     51.000000         7.0  1.000000  0.000000\n",
       "                      1995     55.000000         7.0  2.000000  0.000000\n",
       "                      2014     50.000000         7.0  1.000000  0.000000\n",
       "                      2017     52.000000         7.0  1.000000  0.000000\n",
       "Janelle Monáe         2018     64.833333         6.0  1.666667  1.000000\n",
       "Johann Sebastian Bach 1983     68.500000         6.0  2.000000  0.000000\n",
       "                      2002     47.000000         6.0  1.000000  0.000000\n",
       "                      2013     58.000000         6.0  1.000000  0.000000\n",
       "Le1f                  2014     45.000000         6.0  2.000000  1.000000\n",
       "Leikeli47             2016     46.000000         9.0  5.000000  1.000000\n",
       "                      2017     44.000000         9.0  2.000000  1.000000\n",
       "Lizzo                 2016     54.000000        13.0  1.000000  1.000000\n",
       "                      2017     63.000000        13.0  2.000000  0.000000\n",
       "                      2018     61.000000        13.0  1.000000  0.000000\n",
       "                      2019     67.666667        13.0  1.666667  1.000000\n",
       "Nirvana               1991     65.000000        15.0  1.333333  0.000000\n",
       "                      1993     57.000000        15.0  1.000000  0.000000\n",
       "                      2009     53.600000        15.0  1.000000  0.000000\n",
       "Rihanna               2010     61.000000        16.0  1.000000  1.000000\n",
       "                      2011     59.500000        16.0  2.000000  0.500000\n",
       "                      2012     55.000000        16.0  1.000000  0.000000\n",
       "                      2016     63.222222        16.0  3.444444  1.000000\n",
       "RuPaul                2011     55.000000        88.0  2.666667  0.000000\n",
       "                      2012     50.000000        88.0  2.000000  0.000000\n",
       "                      2014     48.500000        88.0  1.857143  0.000000\n",
       "                      2018     57.500000        88.0  1.500000  0.000000\n",
       "                      2019     58.000000        88.0  1.000000  0.000000\n",
       "Sharon Van Etten      2017     55.000000         7.0  3.400000  0.000000\n",
       "                      2019     57.000000         7.0  1.000000  0.000000\n",
       "Violent Femmes        1983     57.000000        10.0  2.714286  0.571429\n",
       "Yeah Yeah Yeahs       2009     47.000000        11.0  1.666667  0.000000\n",
       "Édith Piaf            1987     49.333333         8.0  1.000000  0.000000"
      ]
     },
     "execution_count": 195,
     "metadata": {},
     "output_type": "execute_result"
    }
   ],
   "source": [
    "highpop_artmax"
   ]
  },
  {
   "cell_type": "code",
   "execution_count": null,
   "metadata": {},
   "outputs": [],
   "source": [
    "#- plots artist with most frequent songs with no repeats high popularity over dates"
   ]
  },
  {
   "cell_type": "code",
   "execution_count": 196,
   "metadata": {},
   "outputs": [],
   "source": [
    "highpop_artmax1nr = highpop_artmax[highpop_artmax['songfreq']<=1.0]"
   ]
  },
  {
   "cell_type": "raw",
   "metadata": {},
   "source": []
  },
  {
   "cell_type": "code",
   "execution_count": 207,
   "metadata": {},
   "outputs": [
    {
     "data": {
      "text/plain": [
       "<matplotlib.axes._subplots.AxesSubplot at 0x12a98b080>"
      ]
     },
     "execution_count": 207,
     "metadata": {},
     "output_type": "execute_result"
    },
    {
     "data": {
      "image/png": "[encoded data removed]",
      "text/plain": [
       "<Figure size 432x288 with 1 Axes>"
      ]
     },
     "metadata": {
      "needs_background": "light"
     },
     "output_type": "display_data"
    }
   ],
   "source": [
    "highpop_artmax1nr.groupby('Artist')[['Tpopularity', 'artsongcnt']].mean().plot.bar()"
   ]
  },
  {
   "cell_type": "code",
   "execution_count": 198,
   "metadata": {},
   "outputs": [],
   "source": [
    "highpop_artmax2r = highpop_artmax[highpop_artmax['songfreq']>=1.5]"
   ]
  },
  {
   "cell_type": "code",
   "execution_count": 211,
   "metadata": {},
   "outputs": [
    {
     "data": {
      "text/plain": [
       "<matplotlib.axes._subplots.AxesSubplot at 0x12afa5208>"
      ]
     },
     "execution_count": 211,
     "metadata": {},
     "output_type": "execute_result"
    },
    {
     "data": {
      "image/png": "[encoded data removed]",
      "text/plain": [
       "<Figure size 432x288 with 1 Axes>"
      ]
     },
     "metadata": {
      "needs_background": "light"
     },
     "output_type": "display_data"
    }
   ],
   "source": [
    "highpop_artmax2r.groupby('Artist')[['Tpopularity', 'artsongcnt']].mean().plot.bar()"
   ]
  },
  {
   "cell_type": "code",
   "execution_count": 214,
   "metadata": {},
   "outputs": [
    {
     "data": {
      "text/plain": [
       "<matplotlib.axes._subplots.AxesSubplot at 0x12b1f1828>"
      ]
     },
     "execution_count": 214,
     "metadata": {},
     "output_type": "execute_result"
    },
    {
     "data": {
      "image/png": "[encoded data removed]",
      "text/plain": [
       "<Figure size 432x288 with 1 Axes>"
      ]
     },
     "metadata": {
      "needs_background": "light"
     },
     "output_type": "display_data"
    }
   ],
   "source": [
    "highpop_artmax1nr.groupby(['Rdate'])['Tpopularity'].mean().plot()\n",
    "highpop_artmax2r.groupby(['Rdate'])['Tpopularity'].mean().plot()"
   ]
  },
  {
   "cell_type": "code",
   "execution_count": 216,
   "metadata": {},
   "outputs": [
    {
     "data": {
      "text/plain": [
       "<matplotlib.axes._subplots.AxesSubplot at 0x12b50b390>"
      ]
     },
     "execution_count": 216,
     "metadata": {},
     "output_type": "execute_result"
    },
    {
     "data": {
      "image/png": "[encoded data removed]",
      "text/plain": [
       "<Figure size 432x288 with 1 Axes>"
      ]
     },
     "metadata": {
      "needs_background": "light"
     },
     "output_type": "display_data"
    }
   ],
   "source": [
    "highpop_artmax1nr.groupby(['Rdate'])['artsongcnt'].mean().plot()\n",
    "highpop_artmax2r.groupby(['Rdate'])['artsongcnt'].mean().plot()"
   ]
  },
  {
   "cell_type": "code",
   "execution_count": 225,
   "metadata": {},
   "outputs": [],
   "source": [
    "highfrequnion = highpop_artmax1nr[(highpop_artmax1nr['Tpopularity'] > 55) & (highpop_artmax1nr['artsongcnt'] < 80) ]"
   ]
  },
  {
   "cell_type": "code",
   "execution_count": 226,
   "metadata": {},
   "outputs": [
    {
     "data": {
      "text/html": [
       "<div>\n",
       "<style scoped>\n",
       "    .dataframe tbody tr th:only-of-type {\n",
       "        vertical-align: middle;\n",
       "    }\n",
       "\n",
       "    .dataframe tbody tr th {\n",
       "        vertical-align: top;\n",
       "    }\n",
       "\n",
       "    .dataframe thead th {\n",
       "        text-align: right;\n",
       "    }\n",
       "</style>\n",
       "<table border=\"1\" class=\"dataframe\">\n",
       "  <thead>\n",
       "    <tr style=\"text-align: right;\">\n",
       "      <th></th>\n",
       "      <th></th>\n",
       "      <th>Tpopularity</th>\n",
       "      <th>artsongcnt</th>\n",
       "      <th>songfreq</th>\n",
       "      <th>Explicit</th>\n",
       "    </tr>\n",
       "    <tr>\n",
       "      <th>Artist</th>\n",
       "      <th>Rdate</th>\n",
       "      <th></th>\n",
       "      <th></th>\n",
       "      <th></th>\n",
       "      <th></th>\n",
       "    </tr>\n",
       "  </thead>\n",
       "  <tbody>\n",
       "    <tr>\n",
       "      <th>Camille Saint-Saëns</th>\n",
       "      <th>2015</th>\n",
       "      <td>62.0</td>\n",
       "      <td>15.0</td>\n",
       "      <td>1.0</td>\n",
       "      <td>0.0</td>\n",
       "    </tr>\n",
       "    <tr>\n",
       "      <th rowspan=\"2\" valign=\"top\">Deftones</th>\n",
       "      <th>1997</th>\n",
       "      <td>64.0</td>\n",
       "      <td>8.0</td>\n",
       "      <td>1.0</td>\n",
       "      <td>0.0</td>\n",
       "    </tr>\n",
       "    <tr>\n",
       "      <th>2000</th>\n",
       "      <td>59.4</td>\n",
       "      <td>8.0</td>\n",
       "      <td>1.0</td>\n",
       "      <td>0.0</td>\n",
       "    </tr>\n",
       "    <tr>\n",
       "      <th>Johann Sebastian Bach</th>\n",
       "      <th>2013</th>\n",
       "      <td>58.0</td>\n",
       "      <td>6.0</td>\n",
       "      <td>1.0</td>\n",
       "      <td>0.0</td>\n",
       "    </tr>\n",
       "    <tr>\n",
       "      <th>Lizzo</th>\n",
       "      <th>2018</th>\n",
       "      <td>61.0</td>\n",
       "      <td>13.0</td>\n",
       "      <td>1.0</td>\n",
       "      <td>0.0</td>\n",
       "    </tr>\n",
       "    <tr>\n",
       "      <th>Nirvana</th>\n",
       "      <th>1993</th>\n",
       "      <td>57.0</td>\n",
       "      <td>15.0</td>\n",
       "      <td>1.0</td>\n",
       "      <td>0.0</td>\n",
       "    </tr>\n",
       "    <tr>\n",
       "      <th>Rihanna</th>\n",
       "      <th>2010</th>\n",
       "      <td>61.0</td>\n",
       "      <td>16.0</td>\n",
       "      <td>1.0</td>\n",
       "      <td>1.0</td>\n",
       "    </tr>\n",
       "    <tr>\n",
       "      <th>Sharon Van Etten</th>\n",
       "      <th>2019</th>\n",
       "      <td>57.0</td>\n",
       "      <td>7.0</td>\n",
       "      <td>1.0</td>\n",
       "      <td>0.0</td>\n",
       "    </tr>\n",
       "  </tbody>\n",
       "</table>\n",
       "</div>"
      ],
      "text/plain": [
       "                             Tpopularity  artsongcnt  songfreq  Explicit\n",
       "Artist                Rdate                                             \n",
       "Camille Saint-Saëns   2015          62.0        15.0       1.0       0.0\n",
       "Deftones              1997          64.0         8.0       1.0       0.0\n",
       "                      2000          59.4         8.0       1.0       0.0\n",
       "Johann Sebastian Bach 2013          58.0         6.0       1.0       0.0\n",
       "Lizzo                 2018          61.0        13.0       1.0       0.0\n",
       "Nirvana               1993          57.0        15.0       1.0       0.0\n",
       "Rihanna               2010          61.0        16.0       1.0       1.0\n",
       "Sharon Van Etten      2019          57.0         7.0       1.0       0.0"
      ]
     },
     "execution_count": 226,
     "metadata": {},
     "output_type": "execute_result"
    }
   ],
   "source": [
    "highfrequnion"
   ]
  },
  {
   "cell_type": "code",
   "execution_count": 228,
   "metadata": {},
   "outputs": [],
   "source": [
    "highrepeatfrequnion = highpop_artmax2r[(highpop_artmax2r['Tpopularity'] > 55) & (highpop_artmax2r['artsongcnt'] < 80) ]"
   ]
  },
  {
   "cell_type": "code",
   "execution_count": 229,
   "metadata": {},
   "outputs": [
    {
     "data": {
      "text/html": [
       "<div>\n",
       "<style scoped>\n",
       "    .dataframe tbody tr th:only-of-type {\n",
       "        vertical-align: middle;\n",
       "    }\n",
       "\n",
       "    .dataframe tbody tr th {\n",
       "        vertical-align: top;\n",
       "    }\n",
       "\n",
       "    .dataframe thead th {\n",
       "        text-align: right;\n",
       "    }\n",
       "</style>\n",
       "<table border=\"1\" class=\"dataframe\">\n",
       "  <thead>\n",
       "    <tr style=\"text-align: right;\">\n",
       "      <th></th>\n",
       "      <th></th>\n",
       "      <th>Tpopularity</th>\n",
       "      <th>artsongcnt</th>\n",
       "      <th>songfreq</th>\n",
       "      <th>Explicit</th>\n",
       "    </tr>\n",
       "    <tr>\n",
       "      <th>Artist</th>\n",
       "      <th>Rdate</th>\n",
       "      <th></th>\n",
       "      <th></th>\n",
       "      <th></th>\n",
       "      <th></th>\n",
       "    </tr>\n",
       "  </thead>\n",
       "  <tbody>\n",
       "    <tr>\n",
       "      <th>Ariana Grande</th>\n",
       "      <th>2018</th>\n",
       "      <td>77.833333</td>\n",
       "      <td>6.0</td>\n",
       "      <td>1.666667</td>\n",
       "      <td>0.833333</td>\n",
       "    </tr>\n",
       "    <tr>\n",
       "      <th rowspan=\"2\" valign=\"top\">Ciara</th>\n",
       "      <th>2004</th>\n",
       "      <td>72.333333</td>\n",
       "      <td>5.0</td>\n",
       "      <td>1.666667</td>\n",
       "      <td>0.000000</td>\n",
       "    </tr>\n",
       "    <tr>\n",
       "      <th>2018</th>\n",
       "      <td>76.000000</td>\n",
       "      <td>5.0</td>\n",
       "      <td>2.000000</td>\n",
       "      <td>0.000000</td>\n",
       "    </tr>\n",
       "    <tr>\n",
       "      <th>Janelle Monáe</th>\n",
       "      <th>2018</th>\n",
       "      <td>64.833333</td>\n",
       "      <td>6.0</td>\n",
       "      <td>1.666667</td>\n",
       "      <td>1.000000</td>\n",
       "    </tr>\n",
       "    <tr>\n",
       "      <th>Johann Sebastian Bach</th>\n",
       "      <th>1983</th>\n",
       "      <td>68.500000</td>\n",
       "      <td>6.0</td>\n",
       "      <td>2.000000</td>\n",
       "      <td>0.000000</td>\n",
       "    </tr>\n",
       "    <tr>\n",
       "      <th rowspan=\"2\" valign=\"top\">Lizzo</th>\n",
       "      <th>2017</th>\n",
       "      <td>63.000000</td>\n",
       "      <td>13.0</td>\n",
       "      <td>2.000000</td>\n",
       "      <td>0.000000</td>\n",
       "    </tr>\n",
       "    <tr>\n",
       "      <th>2019</th>\n",
       "      <td>67.666667</td>\n",
       "      <td>13.0</td>\n",
       "      <td>1.666667</td>\n",
       "      <td>1.000000</td>\n",
       "    </tr>\n",
       "    <tr>\n",
       "      <th rowspan=\"2\" valign=\"top\">Rihanna</th>\n",
       "      <th>2011</th>\n",
       "      <td>59.500000</td>\n",
       "      <td>16.0</td>\n",
       "      <td>2.000000</td>\n",
       "      <td>0.500000</td>\n",
       "    </tr>\n",
       "    <tr>\n",
       "      <th>2016</th>\n",
       "      <td>63.222222</td>\n",
       "      <td>16.0</td>\n",
       "      <td>3.444444</td>\n",
       "      <td>1.000000</td>\n",
       "    </tr>\n",
       "    <tr>\n",
       "      <th>Violent Femmes</th>\n",
       "      <th>1983</th>\n",
       "      <td>57.000000</td>\n",
       "      <td>10.0</td>\n",
       "      <td>2.714286</td>\n",
       "      <td>0.571429</td>\n",
       "    </tr>\n",
       "  </tbody>\n",
       "</table>\n",
       "</div>"
      ],
      "text/plain": [
       "                             Tpopularity  artsongcnt  songfreq  Explicit\n",
       "Artist                Rdate                                             \n",
       "Ariana Grande         2018     77.833333         6.0  1.666667  0.833333\n",
       "Ciara                 2004     72.333333         5.0  1.666667  0.000000\n",
       "                      2018     76.000000         5.0  2.000000  0.000000\n",
       "Janelle Monáe         2018     64.833333         6.0  1.666667  1.000000\n",
       "Johann Sebastian Bach 1983     68.500000         6.0  2.000000  0.000000\n",
       "Lizzo                 2017     63.000000        13.0  2.000000  0.000000\n",
       "                      2019     67.666667        13.0  1.666667  1.000000\n",
       "Rihanna               2011     59.500000        16.0  2.000000  0.500000\n",
       "                      2016     63.222222        16.0  3.444444  1.000000\n",
       "Violent Femmes        1983     57.000000        10.0  2.714286  0.571429"
      ]
     },
     "execution_count": 229,
     "metadata": {},
     "output_type": "execute_result"
    }
   ],
   "source": [
    "highrepeatfrequnion"
   ]
  },
  {
   "cell_type": "code",
   "execution_count": 250,
   "metadata": {},
   "outputs": [
    {
     "data": {
      "text/html": [
       "<div>\n",
       "<style scoped>\n",
       "    .dataframe tbody tr th:only-of-type {\n",
       "        vertical-align: middle;\n",
       "    }\n",
       "\n",
       "    .dataframe tbody tr th {\n",
       "        vertical-align: top;\n",
       "    }\n",
       "\n",
       "    .dataframe thead th {\n",
       "        text-align: right;\n",
       "    }\n",
       "</style>\n",
       "<table border=\"1\" class=\"dataframe\">\n",
       "  <thead>\n",
       "    <tr style=\"text-align: right;\">\n",
       "      <th></th>\n",
       "      <th>Tpopularity_x</th>\n",
       "    </tr>\n",
       "    <tr>\n",
       "      <th>Artist</th>\n",
       "      <th></th>\n",
       "    </tr>\n",
       "  </thead>\n",
       "  <tbody>\n",
       "    <tr>\n",
       "      <th>Ella Fitzgerald</th>\n",
       "      <td>51.0</td>\n",
       "    </tr>\n",
       "    <tr>\n",
       "      <th>Johann Sebastian Bach</th>\n",
       "      <td>52.5</td>\n",
       "    </tr>\n",
       "    <tr>\n",
       "      <th>Lizzo</th>\n",
       "      <td>57.5</td>\n",
       "    </tr>\n",
       "    <tr>\n",
       "      <th>Rihanna</th>\n",
       "      <td>58.0</td>\n",
       "    </tr>\n",
       "    <tr>\n",
       "      <th>RuPaul</th>\n",
       "      <td>58.0</td>\n",
       "    </tr>\n",
       "    <tr>\n",
       "      <th>Sharon Van Etten</th>\n",
       "      <td>57.0</td>\n",
       "    </tr>\n",
       "  </tbody>\n",
       "</table>\n",
       "</div>"
      ],
      "text/plain": [
       "                       Tpopularity_x\n",
       "Artist                              \n",
       "Ella Fitzgerald                 51.0\n",
       "Johann Sebastian Bach           52.5\n",
       "Lizzo                           57.5\n",
       "Rihanna                         58.0\n",
       "RuPaul                          58.0\n",
       "Sharon Van Etten                57.0"
      ]
     },
     "execution_count": 250,
     "metadata": {},
     "output_type": "execute_result"
    }
   ],
   "source": [
    "mergehigh = pd.merge(highpop_artmax1nr, highpop_artmax2r, on=['Artist'], how='inner')\n",
    "mergehigh.groupby('Artist')[['Tpopularity_x']].mean()"
   ]
  },
  {
   "cell_type": "markdown",
   "metadata": {},
   "source": [
    "# 8.\n",
    "*****************************"
   ]
  }
 ],
 "metadata": {
  "kernelspec": {
   "display_name": "Python 3",
   "language": "python",
   "name": "python3"
  },
  "language_info": {
   "codemirror_mode": {
    "name": "ipython",
    "version": 3
   },
   "file_extension": ".py",
   "mimetype": "text/x-python",
   "name": "python",
   "nbconvert_exporter": "python",
   "pygments_lexer": "ipython3",
   "version": "3.7.0"
  }
 },
 "nbformat": 4,
 "nbformat_minor": 2
}
